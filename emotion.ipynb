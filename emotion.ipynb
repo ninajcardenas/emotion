{
 "cells": [
  {
   "cell_type": "markdown",
   "id": "a6e3ffe0",
   "metadata": {},
   "source": [
    "# Human Emotion Recognition\n",
    "\n",
    "### Personal Project\n",
    "\n",
    "Nina Cardenas"
   ]
  },
  {
   "cell_type": "markdown",
   "id": "2699e4a3",
   "metadata": {},
   "source": [
    "## 0. Initialization and setup"
   ]
  },
  {
   "cell_type": "code",
   "execution_count": 44,
   "id": "ddac8b15",
   "metadata": {},
   "outputs": [
    {
     "name": "stdout",
     "output_type": "stream",
     "text": [
      "Requirement already satisfied: plotly in ./venv/lib/python3.9/site-packages (5.13.1)\n",
      "Requirement already satisfied: tenacity>=6.2.0 in ./venv/lib/python3.9/site-packages (from plotly) (8.2.2)\n",
      "Requirement already satisfied: matplotlib in ./venv/lib/python3.9/site-packages (3.7.0)\n",
      "Requirement already satisfied: python-dateutil>=2.7 in ./venv/lib/python3.9/site-packages (from matplotlib) (2.8.2)\n",
      "Requirement already satisfied: pillow>=6.2.0 in ./venv/lib/python3.9/site-packages (from matplotlib) (9.4.0)\n",
      "Requirement already satisfied: pyparsing>=2.3.1 in ./venv/lib/python3.9/site-packages (from matplotlib) (3.0.9)\n",
      "Requirement already satisfied: fonttools>=4.22.0 in ./venv/lib/python3.9/site-packages (from matplotlib) (4.38.0)\n",
      "Requirement already satisfied: cycler>=0.10 in ./venv/lib/python3.9/site-packages (from matplotlib) (0.11.0)\n",
      "Requirement already satisfied: contourpy>=1.0.1 in ./venv/lib/python3.9/site-packages (from matplotlib) (1.0.7)\n",
      "Requirement already satisfied: importlib-resources>=3.2.0 in ./venv/lib/python3.9/site-packages (from matplotlib) (5.12.0)\n",
      "Requirement already satisfied: kiwisolver>=1.0.1 in ./venv/lib/python3.9/site-packages (from matplotlib) (1.4.4)\n",
      "Requirement already satisfied: packaging>=20.0 in ./venv/lib/python3.9/site-packages (from matplotlib) (23.0)\n",
      "Requirement already satisfied: numpy>=1.20 in ./venv/lib/python3.9/site-packages (from matplotlib) (1.24.2)\n",
      "Requirement already satisfied: zipp>=3.1.0 in ./venv/lib/python3.9/site-packages (from importlib-resources>=3.2.0->matplotlib) (3.15.0)\n",
      "Requirement already satisfied: six>=1.5 in ./venv/lib/python3.9/site-packages (from python-dateutil>=2.7->matplotlib) (1.16.0)\n",
      "Requirement already satisfied: tensorflow-macos in ./venv/lib/python3.9/site-packages (2.11.0)\n",
      "Requirement already satisfied: six>=1.12.0 in ./venv/lib/python3.9/site-packages (from tensorflow-macos) (1.16.0)\n",
      "Requirement already satisfied: flatbuffers>=2.0 in ./venv/lib/python3.9/site-packages (from tensorflow-macos) (23.1.21)\n",
      "Requirement already satisfied: wrapt>=1.11.0 in ./venv/lib/python3.9/site-packages (from tensorflow-macos) (1.15.0)\n",
      "Requirement already satisfied: google-pasta>=0.1.1 in ./venv/lib/python3.9/site-packages (from tensorflow-macos) (0.2.0)\n",
      "Requirement already satisfied: gast<=0.4.0,>=0.2.1 in ./venv/lib/python3.9/site-packages (from tensorflow-macos) (0.4.0)\n",
      "Requirement already satisfied: typing-extensions>=3.6.6 in ./venv/lib/python3.9/site-packages (from tensorflow-macos) (4.5.0)\n",
      "Requirement already satisfied: tensorflow-estimator<2.12,>=2.11.0 in ./venv/lib/python3.9/site-packages (from tensorflow-macos) (2.11.0)\n",
      "Requirement already satisfied: grpcio<2.0,>=1.24.3 in ./venv/lib/python3.9/site-packages (from tensorflow-macos) (1.51.3)\n",
      "Requirement already satisfied: astunparse>=1.6.0 in ./venv/lib/python3.9/site-packages (from tensorflow-macos) (1.6.3)\n",
      "Requirement already satisfied: keras<2.12,>=2.11.0 in ./venv/lib/python3.9/site-packages (from tensorflow-macos) (2.11.0)\n",
      "Requirement already satisfied: tensorboard<2.12,>=2.11 in ./venv/lib/python3.9/site-packages (from tensorflow-macos) (2.11.2)\n",
      "Requirement already satisfied: termcolor>=1.1.0 in ./venv/lib/python3.9/site-packages (from tensorflow-macos) (2.2.0)\n",
      "Requirement already satisfied: opt-einsum>=2.3.2 in ./venv/lib/python3.9/site-packages (from tensorflow-macos) (3.3.0)\n",
      "Requirement already satisfied: numpy>=1.20 in ./venv/lib/python3.9/site-packages (from tensorflow-macos) (1.24.2)\n",
      "Requirement already satisfied: h5py>=2.9.0 in ./venv/lib/python3.9/site-packages (from tensorflow-macos) (3.8.0)\n",
      "Requirement already satisfied: packaging in ./venv/lib/python3.9/site-packages (from tensorflow-macos) (23.0)\n",
      "Requirement already satisfied: libclang>=13.0.0 in ./venv/lib/python3.9/site-packages (from tensorflow-macos) (15.0.6.1)\n",
      "Requirement already satisfied: protobuf<3.20,>=3.9.2 in ./venv/lib/python3.9/site-packages (from tensorflow-macos) (3.19.6)\n",
      "Requirement already satisfied: absl-py>=1.0.0 in ./venv/lib/python3.9/site-packages (from tensorflow-macos) (1.4.0)\n",
      "Requirement already satisfied: setuptools in ./venv/lib/python3.9/site-packages (from tensorflow-macos) (60.2.0)\n",
      "Requirement already satisfied: wheel<1.0,>=0.23.0 in ./venv/lib/python3.9/site-packages (from astunparse>=1.6.0->tensorflow-macos) (0.37.1)\n",
      "Requirement already satisfied: werkzeug>=1.0.1 in ./venv/lib/python3.9/site-packages (from tensorboard<2.12,>=2.11->tensorflow-macos) (2.2.3)\n",
      "Requirement already satisfied: tensorboard-plugin-wit>=1.6.0 in ./venv/lib/python3.9/site-packages (from tensorboard<2.12,>=2.11->tensorflow-macos) (1.8.1)\n",
      "Requirement already satisfied: markdown>=2.6.8 in ./venv/lib/python3.9/site-packages (from tensorboard<2.12,>=2.11->tensorflow-macos) (3.4.1)\n",
      "Requirement already satisfied: requests<3,>=2.21.0 in ./venv/lib/python3.9/site-packages (from tensorboard<2.12,>=2.11->tensorflow-macos) (2.28.2)\n",
      "Requirement already satisfied: google-auth<3,>=1.6.3 in ./venv/lib/python3.9/site-packages (from tensorboard<2.12,>=2.11->tensorflow-macos) (2.16.1)\n",
      "Requirement already satisfied: tensorboard-data-server<0.7.0,>=0.6.0 in ./venv/lib/python3.9/site-packages (from tensorboard<2.12,>=2.11->tensorflow-macos) (0.6.1)\n",
      "Requirement already satisfied: google-auth-oauthlib<0.5,>=0.4.1 in ./venv/lib/python3.9/site-packages (from tensorboard<2.12,>=2.11->tensorflow-macos) (0.4.6)\n",
      "Requirement already satisfied: pyasn1-modules>=0.2.1 in ./venv/lib/python3.9/site-packages (from google-auth<3,>=1.6.3->tensorboard<2.12,>=2.11->tensorflow-macos) (0.2.8)\n",
      "Requirement already satisfied: rsa<5,>=3.1.4 in ./venv/lib/python3.9/site-packages (from google-auth<3,>=1.6.3->tensorboard<2.12,>=2.11->tensorflow-macos) (4.9)\n",
      "Requirement already satisfied: cachetools<6.0,>=2.0.0 in ./venv/lib/python3.9/site-packages (from google-auth<3,>=1.6.3->tensorboard<2.12,>=2.11->tensorflow-macos) (5.3.0)\n",
      "Requirement already satisfied: requests-oauthlib>=0.7.0 in ./venv/lib/python3.9/site-packages (from google-auth-oauthlib<0.5,>=0.4.1->tensorboard<2.12,>=2.11->tensorflow-macos) (1.3.1)\n",
      "Requirement already satisfied: importlib-metadata>=4.4 in ./venv/lib/python3.9/site-packages (from markdown>=2.6.8->tensorboard<2.12,>=2.11->tensorflow-macos) (6.0.0)\n",
      "Requirement already satisfied: charset-normalizer<4,>=2 in ./venv/lib/python3.9/site-packages (from requests<3,>=2.21.0->tensorboard<2.12,>=2.11->tensorflow-macos) (3.0.1)\n",
      "Requirement already satisfied: certifi>=2017.4.17 in ./venv/lib/python3.9/site-packages (from requests<3,>=2.21.0->tensorboard<2.12,>=2.11->tensorflow-macos) (2022.12.7)\n",
      "Requirement already satisfied: idna<4,>=2.5 in ./venv/lib/python3.9/site-packages (from requests<3,>=2.21.0->tensorboard<2.12,>=2.11->tensorflow-macos) (3.4)\n",
      "Requirement already satisfied: urllib3<1.27,>=1.21.1 in ./venv/lib/python3.9/site-packages (from requests<3,>=2.21.0->tensorboard<2.12,>=2.11->tensorflow-macos) (1.26.14)\n",
      "Requirement already satisfied: MarkupSafe>=2.1.1 in ./venv/lib/python3.9/site-packages (from werkzeug>=1.0.1->tensorboard<2.12,>=2.11->tensorflow-macos) (2.1.2)\n",
      "Requirement already satisfied: zipp>=0.5 in ./venv/lib/python3.9/site-packages (from importlib-metadata>=4.4->markdown>=2.6.8->tensorboard<2.12,>=2.11->tensorflow-macos) (3.15.0)\n",
      "Requirement already satisfied: pyasn1<0.5.0,>=0.4.6 in ./venv/lib/python3.9/site-packages (from pyasn1-modules>=0.2.1->google-auth<3,>=1.6.3->tensorboard<2.12,>=2.11->tensorflow-macos) (0.4.8)\n",
      "Requirement already satisfied: oauthlib>=3.0.0 in ./venv/lib/python3.9/site-packages (from requests-oauthlib>=0.7.0->google-auth-oauthlib<0.5,>=0.4.1->tensorboard<2.12,>=2.11->tensorflow-macos) (3.2.2)\n",
      "Collecting tensorflow-metal\n",
      "  Using cached tensorflow_metal-0.7.1-cp39-cp39-macosx_12_0_arm64.whl (1.4 MB)\n",
      "Requirement already satisfied: wheel~=0.35 in ./venv/lib/python3.9/site-packages (from tensorflow-metal) (0.37.1)\n",
      "Requirement already satisfied: six>=1.15.0 in ./venv/lib/python3.9/site-packages (from tensorflow-metal) (1.16.0)\n",
      "Installing collected packages: tensorflow-metal\n",
      "Successfully installed tensorflow-metal-0.7.1\n",
      "Requirement already satisfied: scikit-learn in ./venv/lib/python3.9/site-packages (1.2.1)\n",
      "Requirement already satisfied: joblib>=1.1.1 in ./venv/lib/python3.9/site-packages (from scikit-learn) (1.2.0)\n",
      "Requirement already satisfied: scipy>=1.3.2 in ./venv/lib/python3.9/site-packages (from scikit-learn) (1.10.1)\n",
      "Requirement already satisfied: numpy>=1.17.3 in ./venv/lib/python3.9/site-packages (from scikit-learn) (1.24.2)\n",
      "Requirement already satisfied: threadpoolctl>=2.0.0 in ./venv/lib/python3.9/site-packages (from scikit-learn) (3.1.0)\n"
     ]
    },
    {
     "name": "stdout",
     "output_type": "stream",
     "text": [
      "Requirement already satisfied: scipy in ./venv/lib/python3.9/site-packages (1.10.1)\r\n",
      "Requirement already satisfied: numpy<1.27.0,>=1.19.5 in ./venv/lib/python3.9/site-packages (from scipy) (1.24.2)\r\n"
     ]
    }
   ],
   "source": [
    "!pip install plotly\n",
    "!pip install matplotlib\n",
    "!pip install tensorflow-macos\n",
    "!pip install tensorflow-metal\n",
    "!pip install -U scikit-learn\n",
    "!pip install scipy"
   ]
  },
  {
   "cell_type": "code",
   "execution_count": 60,
   "id": "950d5893",
   "metadata": {},
   "outputs": [],
   "source": [
    "import pandas as pd\n",
    "import plotly.express as px\n",
    "import numpy as np\n",
    "import matplotlib.pyplot as plt\n",
    "import tensorflow.keras as ks\n",
    "import tensorflow as tf\n",
    "import sklearn.model_selection as model_selection\n",
    "import keras\n",
    "import scipy\n",
    "from keras.preprocessing.image import ImageDataGenerator"
   ]
  },
  {
   "cell_type": "markdown",
   "id": "68d0a959",
   "metadata": {},
   "source": [
    "## 1. Data Collection and Analysis"
   ]
  },
  {
   "cell_type": "code",
   "execution_count": 61,
   "id": "c6605489",
   "metadata": {},
   "outputs": [],
   "source": [
    "raw_df = pd.read_csv(\"fer2013.csv\")\n",
    "labels = [\"Anger\", \"Disgust\", \"Fear\", \"Happy\", \"Neutral\", \"Sadness\", \"Surprise\"]\n",
    "labels_dict = {0 : 'Angry', 1 : 'Disgust', 2 : 'Fear', 3 : 'Happiness', 4 : 'Sad', 5 : 'Surprise', 6 : 'Neutral'}"
   ]
  },
  {
   "cell_type": "code",
   "execution_count": 62,
   "id": "9b59af63",
   "metadata": {},
   "outputs": [
    {
     "data": {
      "text/plain": [
       "(35887, 3)"
      ]
     },
     "execution_count": 62,
     "metadata": {},
     "output_type": "execute_result"
    }
   ],
   "source": [
    "raw_df.shape"
   ]
  },
  {
   "cell_type": "code",
   "execution_count": 63,
   "id": "74b0cfca",
   "metadata": {},
   "outputs": [
    {
     "data": {
      "text/html": [
       "<div>\n",
       "<style scoped>\n",
       "    .dataframe tbody tr th:only-of-type {\n",
       "        vertical-align: middle;\n",
       "    }\n",
       "\n",
       "    .dataframe tbody tr th {\n",
       "        vertical-align: top;\n",
       "    }\n",
       "\n",
       "    .dataframe thead th {\n",
       "        text-align: right;\n",
       "    }\n",
       "</style>\n",
       "<table border=\"1\" class=\"dataframe\">\n",
       "  <thead>\n",
       "    <tr style=\"text-align: right;\">\n",
       "      <th></th>\n",
       "      <th>emotion</th>\n",
       "      <th>pixels</th>\n",
       "      <th>Usage</th>\n",
       "    </tr>\n",
       "  </thead>\n",
       "  <tbody>\n",
       "    <tr>\n",
       "      <th>0</th>\n",
       "      <td>0</td>\n",
       "      <td>70 80 82 72 58 58 60 63 54 58 60 48 89 115 121...</td>\n",
       "      <td>Training</td>\n",
       "    </tr>\n",
       "    <tr>\n",
       "      <th>1</th>\n",
       "      <td>0</td>\n",
       "      <td>151 150 147 155 148 133 111 140 170 174 182 15...</td>\n",
       "      <td>Training</td>\n",
       "    </tr>\n",
       "    <tr>\n",
       "      <th>2</th>\n",
       "      <td>2</td>\n",
       "      <td>231 212 156 164 174 138 161 173 182 200 106 38...</td>\n",
       "      <td>Training</td>\n",
       "    </tr>\n",
       "    <tr>\n",
       "      <th>3</th>\n",
       "      <td>4</td>\n",
       "      <td>24 32 36 30 32 23 19 20 30 41 21 22 32 34 21 1...</td>\n",
       "      <td>Training</td>\n",
       "    </tr>\n",
       "    <tr>\n",
       "      <th>4</th>\n",
       "      <td>6</td>\n",
       "      <td>4 0 0 0 0 0 0 0 0 0 0 0 3 15 23 28 48 50 58 84...</td>\n",
       "      <td>Training</td>\n",
       "    </tr>\n",
       "  </tbody>\n",
       "</table>\n",
       "</div>"
      ],
      "text/plain": [
       "   emotion                                             pixels     Usage\n",
       "0        0  70 80 82 72 58 58 60 63 54 58 60 48 89 115 121...  Training\n",
       "1        0  151 150 147 155 148 133 111 140 170 174 182 15...  Training\n",
       "2        2  231 212 156 164 174 138 161 173 182 200 106 38...  Training\n",
       "3        4  24 32 36 30 32 23 19 20 30 41 21 22 32 34 21 1...  Training\n",
       "4        6  4 0 0 0 0 0 0 0 0 0 0 0 3 15 23 28 48 50 58 84...  Training"
      ]
     },
     "execution_count": 63,
     "metadata": {},
     "output_type": "execute_result"
    }
   ],
   "source": [
    "raw_df.head()"
   ]
  },
  {
   "cell_type": "markdown",
   "id": "ae34db80",
   "metadata": {},
   "source": [
    "### 1.1 Analyzing class distribution"
   ]
  },
  {
   "cell_type": "code",
   "execution_count": 64,
   "id": "b54d78f8",
   "metadata": {},
   "outputs": [
    {
     "data": {
      "image/png": "[encoded data removed]",
      "text/plain": [
       "<Figure size 640x480 with 1 Axes>"
      ]
     },
     "metadata": {},
     "output_type": "display_data"
    }
   ],
   "source": [
    "plt.title(\"Training Data Distribution\")\n",
    "plt.bar(labels, [list(raw_df['emotion']).count(i) for i in np.unique(raw_df['emotion'])], color=\"purple\")\n",
    "plt.xlabel(\"Emotion\")\n",
    "plt.ylabel(\"Number of Samples\")\n",
    "\n",
    "plt.show()"
   ]
  },
  {
   "cell_type": "markdown",
   "id": "f8e23352",
   "metadata": {},
   "source": [
    "### 1.2 Class imbalance"
   ]
  },
  {
   "cell_type": "code",
   "execution_count": 76,
   "id": "ee88d5df",
   "metadata": {},
   "outputs": [
    {
     "name": "stdout",
     "output_type": "stream",
     "text": [
      "Total classes: 7\n",
      "Total samples: 35887\n",
      "Disgust: 547 (1.52% of total)\n",
      "Happy: 8989 (25.05% of total)\n",
      "\n"
     ]
    }
   ],
   "source": [
    "occ = np.bincount(raw_df['emotion'])\n",
    "total = np.sum(occ)\n",
    "disgust = np.amin(occ)\n",
    "happy = np.amax(occ)\n",
    "print('Total classes: {}\\nTotal samples: {}\\nDisgust: {} ({:.2f}% of total)\\nHappy: {} ({:.2f}% of total)\\n'.format(len(occ),\n",
    "    total, disgust, 100 * disgust / total,happy,100*happy/total))"
   ]
  },
  {
   "cell_type": "markdown",
   "id": "f0b9d78d",
   "metadata": {},
   "source": [
    "## 2. Preprocessing"
   ]
  },
  {
   "cell_type": "code",
   "execution_count": 80,
   "id": "73ad96ea",
   "metadata": {},
   "outputs": [
    {
     "data": {
      "text/html": [
       "<div>\n",
       "<style scoped>\n",
       "    .dataframe tbody tr th:only-of-type {\n",
       "        vertical-align: middle;\n",
       "    }\n",
       "\n",
       "    .dataframe tbody tr th {\n",
       "        vertical-align: top;\n",
       "    }\n",
       "\n",
       "    .dataframe thead th {\n",
       "        text-align: right;\n",
       "    }\n",
       "</style>\n",
       "<table border=\"1\" class=\"dataframe\">\n",
       "  <thead>\n",
       "    <tr style=\"text-align: right;\">\n",
       "      <th></th>\n",
       "      <th>emotion</th>\n",
       "      <th>pixels</th>\n",
       "      <th>Usage</th>\n",
       "    </tr>\n",
       "  </thead>\n",
       "  <tbody>\n",
       "    <tr>\n",
       "      <th>35719</th>\n",
       "      <td>3</td>\n",
       "      <td>174 172 173 167 106 110 101 73 66 100 121 120 ...</td>\n",
       "      <td>PrivateTest</td>\n",
       "    </tr>\n",
       "    <tr>\n",
       "      <th>24782</th>\n",
       "      <td>2</td>\n",
       "      <td>147 143 136 130 135 150 150 138 120 130 133 13...</td>\n",
       "      <td>Training</td>\n",
       "    </tr>\n",
       "    <tr>\n",
       "      <th>16509</th>\n",
       "      <td>6</td>\n",
       "      <td>92 91 92 82 37 33 43 41 33 27 24 27 31 36 43 5...</td>\n",
       "      <td>Training</td>\n",
       "    </tr>\n",
       "    <tr>\n",
       "      <th>17657</th>\n",
       "      <td>3</td>\n",
       "      <td>79 106 86 72 91 96 97 111 97 89 94 102 122 119...</td>\n",
       "      <td>Training</td>\n",
       "    </tr>\n",
       "    <tr>\n",
       "      <th>13235</th>\n",
       "      <td>3</td>\n",
       "      <td>224 224 223 225 223 222 221 221 217 121 24 19 ...</td>\n",
       "      <td>Training</td>\n",
       "    </tr>\n",
       "    <tr>\n",
       "      <th>...</th>\n",
       "      <td>...</td>\n",
       "      <td>...</td>\n",
       "      <td>...</td>\n",
       "    </tr>\n",
       "    <tr>\n",
       "      <th>15552</th>\n",
       "      <td>0</td>\n",
       "      <td>30 49 111 126 132 144 154 154 164 173 178 182 ...</td>\n",
       "      <td>Training</td>\n",
       "    </tr>\n",
       "    <tr>\n",
       "      <th>10968</th>\n",
       "      <td>2</td>\n",
       "      <td>71 65 60 45 44 43 43 43 61 86 95 109 115 115 1...</td>\n",
       "      <td>Training</td>\n",
       "    </tr>\n",
       "    <tr>\n",
       "      <th>28463</th>\n",
       "      <td>0</td>\n",
       "      <td>14 10 17 51 31 29 31 41 47 58 63 54 39 31 29 2...</td>\n",
       "      <td>Training</td>\n",
       "    </tr>\n",
       "    <tr>\n",
       "      <th>6950</th>\n",
       "      <td>6</td>\n",
       "      <td>89 92 95 99 104 107 111 115 122 118 48 53 43 3...</td>\n",
       "      <td>Training</td>\n",
       "    </tr>\n",
       "    <tr>\n",
       "      <th>15585</th>\n",
       "      <td>2</td>\n",
       "      <td>135 119 95 114 118 123 138 131 80 105 166 162 ...</td>\n",
       "      <td>Training</td>\n",
       "    </tr>\n",
       "  </tbody>\n",
       "</table>\n",
       "<p>35887 rows × 3 columns</p>\n",
       "</div>"
      ],
      "text/plain": [
       "       emotion                                             pixels        Usage\n",
       "35719        3  174 172 173 167 106 110 101 73 66 100 121 120 ...  PrivateTest\n",
       "24782        2  147 143 136 130 135 150 150 138 120 130 133 13...     Training\n",
       "16509        6  92 91 92 82 37 33 43 41 33 27 24 27 31 36 43 5...     Training\n",
       "17657        3  79 106 86 72 91 96 97 111 97 89 94 102 122 119...     Training\n",
       "13235        3  224 224 223 225 223 222 221 221 217 121 24 19 ...     Training\n",
       "...        ...                                                ...          ...\n",
       "15552        0  30 49 111 126 132 144 154 154 164 173 178 182 ...     Training\n",
       "10968        2  71 65 60 45 44 43 43 43 61 86 95 109 115 115 1...     Training\n",
       "28463        0  14 10 17 51 31 29 31 41 47 58 63 54 39 31 29 2...     Training\n",
       "6950         6  89 92 95 99 104 107 111 115 122 118 48 53 43 3...     Training\n",
       "15585        2  135 119 95 114 118 123 138 131 80 105 166 162 ...     Training\n",
       "\n",
       "[35887 rows x 3 columns]"
      ]
     },
     "execution_count": 80,
     "metadata": {},
     "output_type": "execute_result"
    }
   ],
   "source": [
    "# shuffle dataset\n",
    "df = raw_df.sample(frac=1)#,random_state=1)\n",
    "df"
   ]
  },
  {
   "cell_type": "code",
   "execution_count": 81,
   "id": "5b497332",
   "metadata": {},
   "outputs": [],
   "source": [
    "# one hot enconding\n",
    "onehot_labels = ks.utils.to_categorical(df[['emotion']], num_classes=7)"
   ]
  },
  {
   "cell_type": "code",
   "execution_count": 9,
   "id": "eead26a3",
   "metadata": {},
   "outputs": [],
   "source": [
    "#train = df[df['Usage'] == 'Training]"
   ]
  },
  {
   "cell_type": "code",
   "execution_count": 82,
   "id": "e7857b1f",
   "metadata": {},
   "outputs": [
    {
     "data": {
      "text/plain": [
       "(35887, 2304)"
      ]
     },
     "execution_count": 82,
     "metadata": {},
     "output_type": "execute_result"
    }
   ],
   "source": [
    "data = np.float32(df['pixels'].astype('str').str.split(\" \").tolist())\n",
    "data.shape"
   ]
  },
  {
   "cell_type": "code",
   "execution_count": 83,
   "id": "3841e6c6",
   "metadata": {},
   "outputs": [
    {
     "data": {
      "text/plain": [
       "255.0"
      ]
     },
     "execution_count": 83,
     "metadata": {},
     "output_type": "execute_result"
    }
   ],
   "source": [
    "np.amax(data) #maximum value in unscaled data"
   ]
  },
  {
   "cell_type": "code",
   "execution_count": 84,
   "id": "67cf1632",
   "metadata": {},
   "outputs": [
    {
     "data": {
      "text/plain": [
       "0.0"
      ]
     },
     "execution_count": 84,
     "metadata": {},
     "output_type": "execute_result"
    }
   ],
   "source": [
    "np.amin(data) # minimum value in unscaled data"
   ]
  },
  {
   "cell_type": "code",
   "execution_count": 85,
   "id": "a82f9021",
   "metadata": {},
   "outputs": [
    {
     "data": {
      "text/plain": [
       "array([[0.68235296, 0.6745098 , 0.6784314 , ..., 0.11764706, 0.11764706,\n",
       "        0.11764706],\n",
       "       [0.5764706 , 0.56078434, 0.53333336, ..., 0.5411765 , 0.56078434,\n",
       "        0.6117647 ],\n",
       "       [0.36078432, 0.35686275, 0.36078432, ..., 0.25490198, 0.28627452,\n",
       "        0.23529412],\n",
       "       ...,\n",
       "       [0.05490196, 0.03921569, 0.06666667, ..., 0.8627451 , 0.95686275,\n",
       "        0.88235295],\n",
       "       [0.34901962, 0.36078432, 0.37254903, ..., 0.69803923, 0.6901961 ,\n",
       "        0.6862745 ],\n",
       "       [0.5294118 , 0.46666667, 0.37254903, ..., 0.12941177, 0.21568628,\n",
       "        0.5176471 ]], dtype=float32)"
      ]
     },
     "execution_count": 85,
     "metadata": {},
     "output_type": "execute_result"
    }
   ],
   "source": [
    "data = data / 255.0\n",
    "data"
   ]
  },
  {
   "cell_type": "code",
   "execution_count": 86,
   "id": "aaf685ee",
   "metadata": {},
   "outputs": [
    {
     "data": {
      "text/plain": [
       "48.0"
      ]
     },
     "execution_count": 86,
     "metadata": {},
     "output_type": "execute_result"
    }
   ],
   "source": [
    "from math import sqrt\n",
    "sqrt(2304)"
   ]
  },
  {
   "cell_type": "code",
   "execution_count": 87,
   "id": "bc677efb",
   "metadata": {},
   "outputs": [],
   "source": [
    "data = data.reshape((35887,48,48,1))"
   ]
  },
  {
   "cell_type": "code",
   "execution_count": 88,
   "id": "10f0522d",
   "metadata": {},
   "outputs": [],
   "source": [
    "X_train, X_test, y_train, y_test = model_selection.train_test_split(data, onehot_labels, test_size=0.1, shuffle=False)\n",
    "X_train, X_val, y_train, y_val = model_selection.train_test_split(X_train, y_train, test_size=0.1, shuffle=False)"
   ]
  },
  {
   "cell_type": "code",
   "execution_count": 89,
   "id": "1a9c1635",
   "metadata": {},
   "outputs": [],
   "source": [
    "datagen = ImageDataGenerator(width_shift_range = 0.1,\n",
    "                             height_shift_range = 0.1,\n",
    "                             horizontal_flip = True,\n",
    "                             zoom_range = 0.2)\n",
    "valgen = ImageDataGenerator(width_shift_range = 0.1,\n",
    "                            height_shift_range = 0.1,\n",
    "                            horizontal_flip = True,\n",
    "                            zoom_range = 0.2) "
   ]
  },
  {
   "cell_type": "code",
   "execution_count": 175,
   "id": "3cf4d5d6",
   "metadata": {},
   "outputs": [],
   "source": [
    "datagen.fit(X_train)\n",
    "valgen.fit(X_val)"
   ]
  },
  {
   "cell_type": "code",
   "execution_count": 176,
   "id": "833b9c36",
   "metadata": {},
   "outputs": [],
   "source": [
    "train_generator = datagen.flow(X_train, y_train, batch_size=64)\n",
    "val_generator = datagen.flow(X_val, y_val, batch_size=64)"
   ]
  },
  {
   "cell_type": "markdown",
   "id": "b4549c18",
   "metadata": {},
   "source": [
    "## 3. ConvNet Model"
   ]
  },
  {
   "cell_type": "code",
   "execution_count": 183,
   "id": "4b8e918c",
   "metadata": {},
   "outputs": [],
   "source": [
    "# defining cnn model layers\n",
    "model = keras.Sequential([\n",
    "    # layer 1 (conv2d)\n",
    "    keras.layers.Conv2D(filters=32, kernel_size=(3, 3), padding=\"same\", activation='relu', kernel_initializer=\"random_normal\", input_shape=(48, 48, 1)),\n",
    "    keras.layers.MaxPooling2D((2, 2)),\n",
    "    keras.layers.Dropout(0.2),\n",
    "    \n",
    "    # layer 2 (conv2d)\n",
    "    keras.layers.Conv2D(filters=64,kernel_size=(3, 3),padding='same', activation='relu'),\n",
    "    keras.layers.MaxPooling2D((2, 2)),\n",
    "    keras.layers.BatchNormalization(),\n",
    "    keras.layers.Dropout(0.2),\n",
    "    \n",
    "    # layer 3 (conv2d)\n",
    "    keras.layers.Conv2D(filters=128,kernel_size=(3, 3),padding='same', activation='relu'),\n",
    "    keras.layers.Conv2D(filters=128,kernel_size=(3, 3),padding='same', activation='relu'),\n",
    "    keras.layers.MaxPooling2D((2, 2)),\n",
    "    keras.layers.BatchNormalization(),\n",
    "    keras.layers.Dropout(0.2),\n",
    "    \n",
    "    # layer 4 (conv2d)\n",
    "    keras.layers.Conv2D(filters=256, kernel_size=(3,3), activation='relu', padding='same'),\n",
    "    keras.layers.Conv2D(filters=256,kernel_size=(3, 3),padding='same', activation='relu'),\n",
    "    keras.layers.MaxPooling2D((2, 2)),\n",
    "    keras.layers.BatchNormalization(),\n",
    "    keras.layers.Dropout(0.2),\n",
    "    \n",
    "    # layer 4 (conv2d)\n",
    "    keras.layers.Conv2D(filters=512, kernel_size=(3,3), activation='relu', padding='same', kernel_regularizer =tf.keras.regularizers.l2( l=0.01)),\n",
    "    keras.layers.Conv2D(filters=512, kernel_size=(3,3), activation='relu', padding='same', kernel_regularizer =tf.keras.regularizers.l2( l=0.01)),\n",
    "    keras.layers.MaxPooling2D((2, 2)),\n",
    "    keras.layers.BatchNormalization(),\n",
    "    keras.layers.Dropout(0.2),\n",
    "    \n",
    "     # flattening\n",
    "    keras.layers.Flatten(),\n",
    "    \n",
    "    # layer 5 (dense)\n",
    "    keras.layers.Dense(512, activation='relu'),\n",
    "    keras.layers.BatchNormalization(),\n",
    "    keras.layers.Dropout(0.2),\n",
    "    \n",
    "    # layer 6 (dense)\n",
    "    keras.layers.Dense(7, activation='softmax')\n",
    "])"
   ]
  },
  {
   "cell_type": "code",
   "execution_count": 184,
   "id": "763c19e2",
   "metadata": {},
   "outputs": [
    {
     "name": "stdout",
     "output_type": "stream",
     "text": [
      "Model: \"sequential_18\"\n",
      "_________________________________________________________________\n",
      " Layer (type)                Output Shape              Param #   \n",
      "=================================================================\n",
      " conv2d_101 (Conv2D)         (None, 48, 48, 32)        320       \n",
      "                                                                 \n",
      " max_pooling2d_80 (MaxPoolin  (None, 24, 24, 32)       0         \n",
      " g2D)                                                            \n",
      "                                                                 \n",
      " dropout_98 (Dropout)        (None, 24, 24, 32)        0         \n",
      "                                                                 \n",
      " conv2d_102 (Conv2D)         (None, 24, 24, 64)        18496     \n",
      "                                                                 \n",
      " max_pooling2d_81 (MaxPoolin  (None, 12, 12, 64)       0         \n",
      " g2D)                                                            \n",
      "                                                                 \n",
      " batch_normalization_84 (Bat  (None, 12, 12, 64)       256       \n",
      " chNormalization)                                                \n",
      "                                                                 \n",
      " dropout_99 (Dropout)        (None, 12, 12, 64)        0         \n",
      "                                                                 \n",
      " conv2d_103 (Conv2D)         (None, 12, 12, 128)       73856     \n",
      "                                                                 \n",
      " conv2d_104 (Conv2D)         (None, 12, 12, 128)       147584    \n",
      "                                                                 \n",
      " max_pooling2d_82 (MaxPoolin  (None, 6, 6, 128)        0         \n",
      " g2D)                                                            \n",
      "                                                                 \n",
      " batch_normalization_85 (Bat  (None, 6, 6, 128)        512       \n",
      " chNormalization)                                                \n",
      "                                                                 \n",
      " dropout_100 (Dropout)       (None, 6, 6, 128)         0         \n",
      "                                                                 \n",
      " conv2d_105 (Conv2D)         (None, 6, 6, 256)         295168    \n",
      "                                                                 \n",
      " conv2d_106 (Conv2D)         (None, 6, 6, 256)         590080    \n",
      "                                                                 \n",
      " max_pooling2d_83 (MaxPoolin  (None, 3, 3, 256)        0         \n",
      " g2D)                                                            \n",
      "                                                                 \n",
      " batch_normalization_86 (Bat  (None, 3, 3, 256)        1024      \n",
      " chNormalization)                                                \n",
      "                                                                 \n",
      " dropout_101 (Dropout)       (None, 3, 3, 256)         0         \n",
      "                                                                 \n",
      " conv2d_107 (Conv2D)         (None, 3, 3, 512)         1180160   \n",
      "                                                                 \n",
      " conv2d_108 (Conv2D)         (None, 3, 3, 512)         2359808   \n",
      "                                                                 \n",
      " max_pooling2d_84 (MaxPoolin  (None, 1, 1, 512)        0         \n",
      " g2D)                                                            \n",
      "                                                                 \n",
      " batch_normalization_87 (Bat  (None, 1, 1, 512)        2048      \n",
      " chNormalization)                                                \n",
      "                                                                 \n",
      " dropout_102 (Dropout)       (None, 1, 1, 512)         0         \n",
      "                                                                 \n",
      " flatten_18 (Flatten)        (None, 512)               0         \n",
      "                                                                 \n",
      " dense_40 (Dense)            (None, 512)               262656    \n",
      "                                                                 \n",
      " batch_normalization_88 (Bat  (None, 512)              2048      \n",
      " chNormalization)                                                \n",
      "                                                                 \n",
      " dropout_103 (Dropout)       (None, 512)               0         \n",
      "                                                                 \n",
      " dense_41 (Dense)            (None, 7)                 3591      \n",
      "                                                                 \n",
      "=================================================================\n",
      "Total params: 4,937,607\n",
      "Trainable params: 4,934,663\n",
      "Non-trainable params: 2,944\n",
      "_________________________________________________________________\n"
     ]
    }
   ],
   "source": [
    "# printing model summary\n",
    "model.summary()\n",
    "\n",
    "# compiling model using adam optimizer and categorical ce loss function\n",
    "# only metric analyzed is accuracy\n",
    "model.compile(optimizer=keras.optimizers.Adam(learning_rate=0.001,decay=1e-6), #'adam'\n",
    "              loss='categorical_crossentropy',\n",
    "              metrics=['accuracy'])"
   ]
  },
  {
   "cell_type": "code",
   "execution_count": 186,
   "id": "9d308cb8",
   "metadata": {},
   "outputs": [
    {
     "name": "stdout",
     "output_type": "stream",
     "text": [
      "Epoch 1/20\n"
     ]
    },
    {
     "name": "stderr",
     "output_type": "stream",
     "text": [
      "2023-03-01 14:49:47.126898: I tensorflow/core/grappler/optimizers/custom_graph_optimizer_registry.cc:114] Plugin optimizer for device_type GPU is enabled.\n"
     ]
    },
    {
     "name": "stdout",
     "output_type": "stream",
     "text": [
      "455/455 [==============================] - ETA: 0s - loss: 4.2700 - accuracy: 0.2278"
     ]
    },
    {
     "name": "stderr",
     "output_type": "stream",
     "text": [
      "2023-03-01 14:50:19.291213: I tensorflow/core/grappler/optimizers/custom_graph_optimizer_registry.cc:114] Plugin optimizer for device_type GPU is enabled.\n"
     ]
    },
    {
     "name": "stdout",
     "output_type": "stream",
     "text": [
      "455/455 [==============================] - 35s 73ms/step - loss: 4.2700 - accuracy: 0.2278 - val_loss: 2.4752 - val_accuracy: 0.1381\n",
      "Epoch 2/20\n",
      "455/455 [==============================] - 31s 67ms/step - loss: 1.9622 - accuracy: 0.2541 - val_loss: 1.9492 - val_accuracy: 0.2461\n",
      "Epoch 3/20\n",
      "455/455 [==============================] - 31s 68ms/step - loss: 1.8501 - accuracy: 0.3181 - val_loss: 1.7863 - val_accuracy: 0.3365\n",
      "Epoch 4/20\n",
      "455/455 [==============================] - 30s 66ms/step - loss: 1.7117 - accuracy: 0.3750 - val_loss: 1.7008 - val_accuracy: 0.3762\n",
      "Epoch 5/20\n",
      "455/455 [==============================] - 30s 67ms/step - loss: 1.6233 - accuracy: 0.4109 - val_loss: 1.5613 - val_accuracy: 0.4192\n",
      "Epoch 6/20\n",
      "455/455 [==============================] - 30s 66ms/step - loss: 1.5051 - accuracy: 0.4478 - val_loss: 1.6277 - val_accuracy: 0.3991\n",
      "Epoch 7/20\n",
      "455/455 [==============================] - 30s 66ms/step - loss: 1.4306 - accuracy: 0.4722 - val_loss: 1.4350 - val_accuracy: 0.4517\n",
      "Epoch 8/20\n",
      "455/455 [==============================] - 30s 66ms/step - loss: 1.3838 - accuracy: 0.4888 - val_loss: 1.3846 - val_accuracy: 0.4864\n",
      "Epoch 9/20\n",
      "455/455 [==============================] - 32s 70ms/step - loss: 1.3523 - accuracy: 0.5000 - val_loss: 1.4730 - val_accuracy: 0.4452\n",
      "Epoch 10/20\n",
      "455/455 [==============================] - 30s 66ms/step - loss: 1.3202 - accuracy: 0.5134 - val_loss: 1.3097 - val_accuracy: 0.5248\n",
      "Epoch 11/20\n",
      "455/455 [==============================] - 32s 69ms/step - loss: 1.2968 - accuracy: 0.5238 - val_loss: 1.2961 - val_accuracy: 0.5263\n",
      "Epoch 12/20\n",
      "455/455 [==============================] - 31s 68ms/step - loss: 1.2783 - accuracy: 0.5314 - val_loss: 1.2999 - val_accuracy: 0.5139\n",
      "Epoch 13/20\n",
      "455/455 [==============================] - 50s 111ms/step - loss: 1.2605 - accuracy: 0.5361 - val_loss: 1.2539 - val_accuracy: 0.5396\n",
      "Epoch 14/20\n",
      "455/455 [==============================] - 33s 72ms/step - loss: 1.2439 - accuracy: 0.5480 - val_loss: 1.2258 - val_accuracy: 0.5533\n",
      "Epoch 15/20\n",
      "455/455 [==============================] - 32s 70ms/step - loss: 1.2286 - accuracy: 0.5516 - val_loss: 1.2531 - val_accuracy: 0.5421\n",
      "Epoch 16/20\n",
      "455/455 [==============================] - 33s 73ms/step - loss: 1.2120 - accuracy: 0.5558 - val_loss: 1.1969 - val_accuracy: 0.5591\n",
      "Epoch 17/20\n",
      "455/455 [==============================] - 32s 69ms/step - loss: 1.1999 - accuracy: 0.5589 - val_loss: 1.2315 - val_accuracy: 0.5483\n",
      "Epoch 18/20\n",
      "455/455 [==============================] - 33s 71ms/step - loss: 1.1890 - accuracy: 0.5660 - val_loss: 1.2652 - val_accuracy: 0.5161\n",
      "Epoch 19/20\n",
      "455/455 [==============================] - 32s 69ms/step - loss: 1.1791 - accuracy: 0.5682 - val_loss: 1.1722 - val_accuracy: 0.5641\n",
      "Epoch 20/20\n",
      "455/455 [==============================] - 32s 70ms/step - loss: 1.1613 - accuracy: 0.5774 - val_loss: 1.2124 - val_accuracy: 0.5514\n"
     ]
    },
    {
     "data": {
      "text/plain": [
       "<keras.callbacks.History at 0x4410bd550>"
      ]
     },
     "execution_count": 186,
     "metadata": {},
     "output_type": "execute_result"
    }
   ],
   "source": [
    "model.fit(train_generator,\n",
    "          batch_size=256,\n",
    "          epochs=20,\n",
    "          verbose=1,\n",
    "          validation_data=val_generator)"
   ]
  },
  {
   "cell_type": "code",
   "execution_count": 187,
   "id": "84036dcc",
   "metadata": {},
   "outputs": [
    {
     "data": {
      "text/plain": [
       "dict_keys(['loss', 'accuracy', 'val_loss', 'val_accuracy'])"
      ]
     },
     "execution_count": 187,
     "metadata": {},
     "output_type": "execute_result"
    }
   ],
   "source": [
    "model.history.history.keys()"
   ]
  },
  {
   "cell_type": "code",
   "execution_count": 188,
   "id": "fc8b6a29",
   "metadata": {},
   "outputs": [
    {
     "data": {
      "text/plain": [
       "[0.13808049261569977,\n",
       " 0.24613003432750702,\n",
       " 0.33653250336647034,\n",
       " 0.37616100907325745,\n",
       " 0.4191950559616089,\n",
       " 0.39907121658325195,\n",
       " 0.4517028033733368,\n",
       " 0.4863777160644531,\n",
       " 0.44520124793052673,\n",
       " 0.5247678160667419,\n",
       " 0.5263158082962036,\n",
       " 0.5139318704605103,\n",
       " 0.5396285057067871,\n",
       " 0.553250789642334,\n",
       " 0.5421052575111389,\n",
       " 0.5591331124305725,\n",
       " 0.5482972264289856,\n",
       " 0.5160990953445435,\n",
       " 0.5640866756439209,\n",
       " 0.5513932108879089]"
      ]
     },
     "execution_count": 188,
     "metadata": {},
     "output_type": "execute_result"
    }
   ],
   "source": [
    "model.history.history['val_accuracy']"
   ]
  },
  {
   "cell_type": "code",
   "execution_count": 189,
   "id": "c36048e7",
   "metadata": {},
   "outputs": [
    {
     "data": {
      "text/plain": [
       "<matplotlib.legend.Legend at 0x43f9bdaf0>"
      ]
     },
     "execution_count": 189,
     "metadata": {},
     "output_type": "execute_result"
    },
    {
     "data": {
      "image/png": "[encoded data removed]",
      "text/plain": [
       "<Figure size 640x480 with 1 Axes>"
      ]
     },
     "metadata": {},
     "output_type": "display_data"
    }
   ],
   "source": [
    "plt.plot(model.history.history[\"accuracy\"],'r',label=\"Training Accuracy\")\n",
    "plt.plot(model.history.history[\"val_accuracy\"],'b',label=\"Validation Accuracy\")\n",
    "plt.legend()"
   ]
  },
  {
   "cell_type": "code",
   "execution_count": 190,
   "id": "b659924e",
   "metadata": {},
   "outputs": [
    {
     "data": {
      "text/plain": [
       "<matplotlib.legend.Legend at 0x359840280>"
      ]
     },
     "execution_count": 190,
     "metadata": {},
     "output_type": "execute_result"
    },
    {
     "data": {
      "image/png": "[encoded data removed]",
      "text/plain": [
       "<Figure size 640x480 with 1 Axes>"
      ]
     },
     "metadata": {},
     "output_type": "display_data"
    }
   ],
   "source": [
    "plt.plot(history.history[\"loss\"],'r', label=\"Training Loss\")\n",
    "plt.plot(history.history[\"val_loss\"],'b', label=\"Validation Loss\")\n",
    "plt.legend()"
   ]
  },
  {
   "cell_type": "code",
   "execution_count": 191,
   "id": "6cf0f06a",
   "metadata": {},
   "outputs": [
    {
     "name": "stdout",
     "output_type": "stream",
     "text": [
      "29/29 [==============================] - 2s 47ms/step - loss: 1.1711 - accuracy: 0.5698\n",
      "Test accuracy: 0.569796621799469\n",
      "Test loss:  1.1710658073425293\n"
     ]
    }
   ],
   "source": [
    "test_loss, test_acc = model.evaluate(X_test, y_test,batch_size=128)\n",
    "\n",
    "print('Test accuracy:', test_acc)\n",
    "print('Test loss: ', test_loss)"
   ]
  },
  {
   "cell_type": "code",
   "execution_count": 174,
   "id": "2a981f19",
   "metadata": {},
   "outputs": [
    {
     "name": "stdout",
     "output_type": "stream",
     "text": [
      "Saved model and model weights to disk.\n"
     ]
    }
   ],
   "source": [
    "model_json = model.to_json()\n",
    "with open(\"model.json\", \"w\") as json_file:\n",
    "    json_file.write(model_json)\n",
    "model.save_weights(\"model.h5\")\n",
    "print(\"Saved model and model weights to disk.\")"
   ]
  }
 ],
 "metadata": {
  "kernelspec": {
   "display_name": "Python 3 (ipykernel)",
   "language": "python",
   "name": "python3"
  },
  "language_info": {
   "codemirror_mode": {
    "name": "ipython",
    "version": 3
   },
   "file_extension": ".py",
   "mimetype": "text/x-python",
   "name": "python",
   "nbconvert_exporter": "python",
   "pygments_lexer": "ipython3",
   "version": "3.9.6"
  }
 },
 "nbformat": 4,
 "nbformat_minor": 5
}
