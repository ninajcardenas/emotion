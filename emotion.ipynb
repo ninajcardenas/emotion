{
 "cells": [
  {
   "cell_type": "markdown",
   "id": "a6e3ffe0",
   "metadata": {},
   "source": [
    "# Human Emotion Recognition\n",
    "\n",
    "### Personal Project\n",
    "\n",
    "Nina Cardenas"
   ]
  },
  {
   "cell_type": "markdown",
   "id": "2699e4a3",
   "metadata": {},
   "source": [
    "## 0. Initialization and setup"
   ]
  },
  {
   "cell_type": "code",
   "execution_count": 105,
   "id": "ddac8b15",
   "metadata": {},
   "outputs": [
    {
     "name": "stdout",
     "output_type": "stream",
     "text": [
      "Requirement already satisfied: plotly in ./venv/lib/python3.9/site-packages (5.13.1)\n",
      "Requirement already satisfied: tenacity>=6.2.0 in ./venv/lib/python3.9/site-packages (from plotly) (8.2.2)\n",
      "Requirement already satisfied: matplotlib in ./venv/lib/python3.9/site-packages (3.7.0)\n",
      "Requirement already satisfied: kiwisolver>=1.0.1 in ./venv/lib/python3.9/site-packages (from matplotlib) (1.4.4)\n",
      "Requirement already satisfied: packaging>=20.0 in ./venv/lib/python3.9/site-packages (from matplotlib) (23.0)\n",
      "Requirement already satisfied: pillow>=6.2.0 in ./venv/lib/python3.9/site-packages (from matplotlib) (9.4.0)\n",
      "Requirement already satisfied: pyparsing>=2.3.1 in ./venv/lib/python3.9/site-packages (from matplotlib) (3.0.9)\n",
      "Requirement already satisfied: python-dateutil>=2.7 in ./venv/lib/python3.9/site-packages (from matplotlib) (2.8.2)\n",
      "Requirement already satisfied: numpy>=1.20 in ./venv/lib/python3.9/site-packages (from matplotlib) (1.24.2)\n",
      "Requirement already satisfied: fonttools>=4.22.0 in ./venv/lib/python3.9/site-packages (from matplotlib) (4.38.0)\n",
      "Requirement already satisfied: cycler>=0.10 in ./venv/lib/python3.9/site-packages (from matplotlib) (0.11.0)\n",
      "Requirement already satisfied: importlib-resources>=3.2.0 in ./venv/lib/python3.9/site-packages (from matplotlib) (5.12.0)\n",
      "Requirement already satisfied: contourpy>=1.0.1 in ./venv/lib/python3.9/site-packages (from matplotlib) (1.0.7)\n",
      "Requirement already satisfied: zipp>=3.1.0 in ./venv/lib/python3.9/site-packages (from importlib-resources>=3.2.0->matplotlib) (3.15.0)\n",
      "Requirement already satisfied: six>=1.5 in ./venv/lib/python3.9/site-packages (from python-dateutil>=2.7->matplotlib) (1.16.0)\n",
      "Requirement already satisfied: tensorflow-macos in ./venv/lib/python3.9/site-packages (2.11.0)\n",
      "Requirement already satisfied: tensorboard<2.12,>=2.11 in ./venv/lib/python3.9/site-packages (from tensorflow-macos) (2.11.2)\n",
      "Requirement already satisfied: libclang>=13.0.0 in ./venv/lib/python3.9/site-packages (from tensorflow-macos) (15.0.6.1)\n",
      "Requirement already satisfied: keras<2.12,>=2.11.0 in ./venv/lib/python3.9/site-packages (from tensorflow-macos) (2.11.0)\n",
      "Requirement already satisfied: h5py>=2.9.0 in ./venv/lib/python3.9/site-packages (from tensorflow-macos) (3.8.0)\n",
      "Requirement already satisfied: tensorflow-estimator<2.12,>=2.11.0 in ./venv/lib/python3.9/site-packages (from tensorflow-macos) (2.11.0)\n",
      "Requirement already satisfied: wrapt>=1.11.0 in ./venv/lib/python3.9/site-packages (from tensorflow-macos) (1.15.0)\n",
      "Requirement already satisfied: six>=1.12.0 in ./venv/lib/python3.9/site-packages (from tensorflow-macos) (1.16.0)\n",
      "Requirement already satisfied: termcolor>=1.1.0 in ./venv/lib/python3.9/site-packages (from tensorflow-macos) (2.2.0)\n",
      "Requirement already satisfied: flatbuffers>=2.0 in ./venv/lib/python3.9/site-packages (from tensorflow-macos) (23.1.21)\n",
      "Requirement already satisfied: grpcio<2.0,>=1.24.3 in ./venv/lib/python3.9/site-packages (from tensorflow-macos) (1.51.3)\n",
      "Requirement already satisfied: absl-py>=1.0.0 in ./venv/lib/python3.9/site-packages (from tensorflow-macos) (1.4.0)\n",
      "Requirement already satisfied: opt-einsum>=2.3.2 in ./venv/lib/python3.9/site-packages (from tensorflow-macos) (3.3.0)\n",
      "Requirement already satisfied: numpy>=1.20 in ./venv/lib/python3.9/site-packages (from tensorflow-macos) (1.24.2)\n",
      "Requirement already satisfied: setuptools in ./venv/lib/python3.9/site-packages (from tensorflow-macos) (60.2.0)\n",
      "Requirement already satisfied: google-pasta>=0.1.1 in ./venv/lib/python3.9/site-packages (from tensorflow-macos) (0.2.0)\n",
      "Requirement already satisfied: protobuf<3.20,>=3.9.2 in ./venv/lib/python3.9/site-packages (from tensorflow-macos) (3.19.6)\n",
      "Requirement already satisfied: typing-extensions>=3.6.6 in ./venv/lib/python3.9/site-packages (from tensorflow-macos) (4.5.0)\n",
      "Requirement already satisfied: packaging in ./venv/lib/python3.9/site-packages (from tensorflow-macos) (23.0)\n",
      "Requirement already satisfied: astunparse>=1.6.0 in ./venv/lib/python3.9/site-packages (from tensorflow-macos) (1.6.3)\n",
      "Requirement already satisfied: gast<=0.4.0,>=0.2.1 in ./venv/lib/python3.9/site-packages (from tensorflow-macos) (0.4.0)\n",
      "Requirement already satisfied: wheel<1.0,>=0.23.0 in ./venv/lib/python3.9/site-packages (from astunparse>=1.6.0->tensorflow-macos) (0.37.1)\n",
      "Requirement already satisfied: werkzeug>=1.0.1 in ./venv/lib/python3.9/site-packages (from tensorboard<2.12,>=2.11->tensorflow-macos) (2.2.3)\n",
      "Requirement already satisfied: tensorboard-data-server<0.7.0,>=0.6.0 in ./venv/lib/python3.9/site-packages (from tensorboard<2.12,>=2.11->tensorflow-macos) (0.6.1)\n",
      "Requirement already satisfied: tensorboard-plugin-wit>=1.6.0 in ./venv/lib/python3.9/site-packages (from tensorboard<2.12,>=2.11->tensorflow-macos) (1.8.1)\n",
      "Requirement already satisfied: google-auth<3,>=1.6.3 in ./venv/lib/python3.9/site-packages (from tensorboard<2.12,>=2.11->tensorflow-macos) (2.16.1)\n",
      "Requirement already satisfied: google-auth-oauthlib<0.5,>=0.4.1 in ./venv/lib/python3.9/site-packages (from tensorboard<2.12,>=2.11->tensorflow-macos) (0.4.6)\n",
      "Requirement already satisfied: requests<3,>=2.21.0 in ./venv/lib/python3.9/site-packages (from tensorboard<2.12,>=2.11->tensorflow-macos) (2.28.2)\n",
      "Requirement already satisfied: markdown>=2.6.8 in ./venv/lib/python3.9/site-packages (from tensorboard<2.12,>=2.11->tensorflow-macos) (3.4.1)\n",
      "Requirement already satisfied: cachetools<6.0,>=2.0.0 in ./venv/lib/python3.9/site-packages (from google-auth<3,>=1.6.3->tensorboard<2.12,>=2.11->tensorflow-macos) (5.3.0)\n",
      "Requirement already satisfied: pyasn1-modules>=0.2.1 in ./venv/lib/python3.9/site-packages (from google-auth<3,>=1.6.3->tensorboard<2.12,>=2.11->tensorflow-macos) (0.2.8)\n",
      "Requirement already satisfied: rsa<5,>=3.1.4 in ./venv/lib/python3.9/site-packages (from google-auth<3,>=1.6.3->tensorboard<2.12,>=2.11->tensorflow-macos) (4.9)\n",
      "Requirement already satisfied: requests-oauthlib>=0.7.0 in ./venv/lib/python3.9/site-packages (from google-auth-oauthlib<0.5,>=0.4.1->tensorboard<2.12,>=2.11->tensorflow-macos) (1.3.1)\n",
      "Requirement already satisfied: importlib-metadata>=4.4 in ./venv/lib/python3.9/site-packages (from markdown>=2.6.8->tensorboard<2.12,>=2.11->tensorflow-macos) (6.0.0)\n",
      "Requirement already satisfied: certifi>=2017.4.17 in ./venv/lib/python3.9/site-packages (from requests<3,>=2.21.0->tensorboard<2.12,>=2.11->tensorflow-macos) (2022.12.7)\n",
      "Requirement already satisfied: charset-normalizer<4,>=2 in ./venv/lib/python3.9/site-packages (from requests<3,>=2.21.0->tensorboard<2.12,>=2.11->tensorflow-macos) (3.0.1)\n",
      "Requirement already satisfied: urllib3<1.27,>=1.21.1 in ./venv/lib/python3.9/site-packages (from requests<3,>=2.21.0->tensorboard<2.12,>=2.11->tensorflow-macos) (1.26.14)\n",
      "Requirement already satisfied: idna<4,>=2.5 in ./venv/lib/python3.9/site-packages (from requests<3,>=2.21.0->tensorboard<2.12,>=2.11->tensorflow-macos) (3.4)\n",
      "Requirement already satisfied: MarkupSafe>=2.1.1 in ./venv/lib/python3.9/site-packages (from werkzeug>=1.0.1->tensorboard<2.12,>=2.11->tensorflow-macos) (2.1.2)\n",
      "Requirement already satisfied: zipp>=0.5 in ./venv/lib/python3.9/site-packages (from importlib-metadata>=4.4->markdown>=2.6.8->tensorboard<2.12,>=2.11->tensorflow-macos) (3.15.0)\n",
      "Requirement already satisfied: pyasn1<0.5.0,>=0.4.6 in ./venv/lib/python3.9/site-packages (from pyasn1-modules>=0.2.1->google-auth<3,>=1.6.3->tensorboard<2.12,>=2.11->tensorflow-macos) (0.4.8)\n",
      "Requirement already satisfied: oauthlib>=3.0.0 in ./venv/lib/python3.9/site-packages (from requests-oauthlib>=0.7.0->google-auth-oauthlib<0.5,>=0.4.1->tensorboard<2.12,>=2.11->tensorflow-macos) (3.2.2)\n",
      "Requirement already satisfied: tensorflow-metal in ./venv/lib/python3.9/site-packages (0.7.1)\n",
      "Requirement already satisfied: wheel~=0.35 in ./venv/lib/python3.9/site-packages (from tensorflow-metal) (0.37.1)\n",
      "Requirement already satisfied: six>=1.15.0 in ./venv/lib/python3.9/site-packages (from tensorflow-metal) (1.16.0)\n",
      "Requirement already satisfied: scikit-learn in ./venv/lib/python3.9/site-packages (1.2.1)\n",
      "Requirement already satisfied: joblib>=1.1.1 in ./venv/lib/python3.9/site-packages (from scikit-learn) (1.2.0)\n",
      "Requirement already satisfied: threadpoolctl>=2.0.0 in ./venv/lib/python3.9/site-packages (from scikit-learn) (3.1.0)\n",
      "Requirement already satisfied: scipy>=1.3.2 in ./venv/lib/python3.9/site-packages (from scikit-learn) (1.10.1)\n",
      "Requirement already satisfied: numpy>=1.17.3 in ./venv/lib/python3.9/site-packages (from scikit-learn) (1.24.2)\n"
     ]
    },
    {
     "name": "stdout",
     "output_type": "stream",
     "text": [
      "Requirement already satisfied: scipy in ./venv/lib/python3.9/site-packages (1.10.1)\r\n",
      "Requirement already satisfied: numpy<1.27.0,>=1.19.5 in ./venv/lib/python3.9/site-packages (from scipy) (1.24.2)\r\n"
     ]
    }
   ],
   "source": [
    "!pip install plotly\n",
    "!pip install matplotlib\n",
    "!pip install tensorflow-macos\n",
    "!pip install tensorflow-metal\n",
    "!pip install -U scikit-learn\n",
    "!pip install scipy"
   ]
  },
  {
   "cell_type": "code",
   "execution_count": 106,
   "id": "950d5893",
   "metadata": {},
   "outputs": [],
   "source": [
    "import pandas as pd\n",
    "import plotly.express as px\n",
    "import numpy as np\n",
    "import matplotlib.pyplot as plt\n",
    "import tensorflow.keras as ks\n",
    "import tensorflow as tf\n",
    "import sklearn.model_selection as model_selection\n",
    "import keras\n",
    "import scipy\n",
    "from keras.preprocessing.image import ImageDataGenerator"
   ]
  },
  {
   "cell_type": "markdown",
   "id": "68d0a959",
   "metadata": {},
   "source": [
    "## 1. Data Collection and Analysis"
   ]
  },
  {
   "cell_type": "code",
   "execution_count": 107,
   "id": "c6605489",
   "metadata": {},
   "outputs": [],
   "source": [
    "raw_df = pd.read_csv(\"fer2013.csv\")\n",
    "labels = [\"Anger\", \"Disgust\", \"Fear\", \"Happy\", \"Neutral\", \"Sadness\", \"Surprise\"]\n",
    "labels_dict = {0 : 'Angry', 1 : 'Disgust', 2 : 'Fear', 3 : 'Happiness', 4 : 'Sad', 5 : 'Surprise', 6 : 'Neutral'}"
   ]
  },
  {
   "cell_type": "code",
   "execution_count": 108,
   "id": "9b59af63",
   "metadata": {},
   "outputs": [
    {
     "data": {
      "text/plain": [
       "(35887, 3)"
      ]
     },
     "execution_count": 108,
     "metadata": {},
     "output_type": "execute_result"
    }
   ],
   "source": [
    "raw_df.shape"
   ]
  },
  {
   "cell_type": "code",
   "execution_count": 109,
   "id": "74b0cfca",
   "metadata": {},
   "outputs": [
    {
     "data": {
      "text/html": [
       "<div>\n",
       "<style scoped>\n",
       "    .dataframe tbody tr th:only-of-type {\n",
       "        vertical-align: middle;\n",
       "    }\n",
       "\n",
       "    .dataframe tbody tr th {\n",
       "        vertical-align: top;\n",
       "    }\n",
       "\n",
       "    .dataframe thead th {\n",
       "        text-align: right;\n",
       "    }\n",
       "</style>\n",
       "<table border=\"1\" class=\"dataframe\">\n",
       "  <thead>\n",
       "    <tr style=\"text-align: right;\">\n",
       "      <th></th>\n",
       "      <th>emotion</th>\n",
       "      <th>pixels</th>\n",
       "      <th>Usage</th>\n",
       "    </tr>\n",
       "  </thead>\n",
       "  <tbody>\n",
       "    <tr>\n",
       "      <th>0</th>\n",
       "      <td>0</td>\n",
       "      <td>70 80 82 72 58 58 60 63 54 58 60 48 89 115 121...</td>\n",
       "      <td>Training</td>\n",
       "    </tr>\n",
       "    <tr>\n",
       "      <th>1</th>\n",
       "      <td>0</td>\n",
       "      <td>151 150 147 155 148 133 111 140 170 174 182 15...</td>\n",
       "      <td>Training</td>\n",
       "    </tr>\n",
       "    <tr>\n",
       "      <th>2</th>\n",
       "      <td>2</td>\n",
       "      <td>231 212 156 164 174 138 161 173 182 200 106 38...</td>\n",
       "      <td>Training</td>\n",
       "    </tr>\n",
       "    <tr>\n",
       "      <th>3</th>\n",
       "      <td>4</td>\n",
       "      <td>24 32 36 30 32 23 19 20 30 41 21 22 32 34 21 1...</td>\n",
       "      <td>Training</td>\n",
       "    </tr>\n",
       "    <tr>\n",
       "      <th>4</th>\n",
       "      <td>6</td>\n",
       "      <td>4 0 0 0 0 0 0 0 0 0 0 0 3 15 23 28 48 50 58 84...</td>\n",
       "      <td>Training</td>\n",
       "    </tr>\n",
       "  </tbody>\n",
       "</table>\n",
       "</div>"
      ],
      "text/plain": [
       "   emotion                                             pixels     Usage\n",
       "0        0  70 80 82 72 58 58 60 63 54 58 60 48 89 115 121...  Training\n",
       "1        0  151 150 147 155 148 133 111 140 170 174 182 15...  Training\n",
       "2        2  231 212 156 164 174 138 161 173 182 200 106 38...  Training\n",
       "3        4  24 32 36 30 32 23 19 20 30 41 21 22 32 34 21 1...  Training\n",
       "4        6  4 0 0 0 0 0 0 0 0 0 0 0 3 15 23 28 48 50 58 84...  Training"
      ]
     },
     "execution_count": 109,
     "metadata": {},
     "output_type": "execute_result"
    }
   ],
   "source": [
    "raw_df.head()"
   ]
  },
  {
   "cell_type": "markdown",
   "id": "ae34db80",
   "metadata": {},
   "source": [
    "### 1.1 Analyzing class distribution"
   ]
  },
  {
   "cell_type": "code",
   "execution_count": 110,
   "id": "b54d78f8",
   "metadata": {},
   "outputs": [
    {
     "data": {
      "image/png": "[encoded data removed]",
      "text/plain": [
       "<Figure size 640x480 with 1 Axes>"
      ]
     },
     "metadata": {},
     "output_type": "display_data"
    }
   ],
   "source": [
    "plt.title(\"Training Data Distribution\")\n",
    "plt.bar(labels, [list(raw_df['emotion']).count(i) for i in np.unique(raw_df['emotion'])], color=\"purple\")\n",
    "plt.xlabel(\"Emotion\")\n",
    "plt.ylabel(\"Number of Samples\")\n",
    "\n",
    "plt.show()"
   ]
  },
  {
   "cell_type": "markdown",
   "id": "f8e23352",
   "metadata": {},
   "source": [
    "### 1.2 Class imbalance"
   ]
  },
  {
   "cell_type": "code",
   "execution_count": 111,
   "id": "ee88d5df",
   "metadata": {},
   "outputs": [
    {
     "name": "stdout",
     "output_type": "stream",
     "text": [
      "Total classes: 7\n",
      "Total samples: 35887\n",
      "Disgust: 547 (1.52% of total)\n",
      "Happy: 8989 (25.05% of total)\n",
      "\n"
     ]
    }
   ],
   "source": [
    "occ = np.bincount(raw_df['emotion'])\n",
    "total = np.sum(occ)\n",
    "disgust = np.amin(occ)\n",
    "happy = np.amax(occ)\n",
    "print('Total classes: {}\\nTotal samples: {}\\nDisgust: {} ({:.2f}% of total)\\nHappy: {} ({:.2f}% of total)\\n'.format(len(occ),\n",
    "    total, disgust, 100 * disgust / total,happy,100*happy/total))"
   ]
  },
  {
   "cell_type": "markdown",
   "id": "f0b9d78d",
   "metadata": {},
   "source": [
    "## 2. Preprocessing"
   ]
  },
  {
   "cell_type": "code",
   "execution_count": 112,
   "id": "73ad96ea",
   "metadata": {},
   "outputs": [
    {
     "data": {
      "text/html": [
       "<div>\n",
       "<style scoped>\n",
       "    .dataframe tbody tr th:only-of-type {\n",
       "        vertical-align: middle;\n",
       "    }\n",
       "\n",
       "    .dataframe tbody tr th {\n",
       "        vertical-align: top;\n",
       "    }\n",
       "\n",
       "    .dataframe thead th {\n",
       "        text-align: right;\n",
       "    }\n",
       "</style>\n",
       "<table border=\"1\" class=\"dataframe\">\n",
       "  <thead>\n",
       "    <tr style=\"text-align: right;\">\n",
       "      <th></th>\n",
       "      <th>emotion</th>\n",
       "      <th>pixels</th>\n",
       "      <th>Usage</th>\n",
       "    </tr>\n",
       "  </thead>\n",
       "  <tbody>\n",
       "    <tr>\n",
       "      <th>8603</th>\n",
       "      <td>6</td>\n",
       "      <td>15 8 2 5 6 6 6 5 7 10 8 9 17 15 3 19 18 47 60 ...</td>\n",
       "      <td>Training</td>\n",
       "    </tr>\n",
       "    <tr>\n",
       "      <th>19289</th>\n",
       "      <td>0</td>\n",
       "      <td>231 237 238 234 237 239 238 184 95 59 13 17 25...</td>\n",
       "      <td>Training</td>\n",
       "    </tr>\n",
       "    <tr>\n",
       "      <th>25211</th>\n",
       "      <td>4</td>\n",
       "      <td>32 37 37 33 35 36 33 44 60 85 140 211 235 246 ...</td>\n",
       "      <td>Training</td>\n",
       "    </tr>\n",
       "    <tr>\n",
       "      <th>7261</th>\n",
       "      <td>0</td>\n",
       "      <td>117 112 109 85 61 44 49 26 104 220 225 228 231...</td>\n",
       "      <td>Training</td>\n",
       "    </tr>\n",
       "    <tr>\n",
       "      <th>22728</th>\n",
       "      <td>4</td>\n",
       "      <td>126 124 127 127 90 124 181 184 192 198 201 203...</td>\n",
       "      <td>Training</td>\n",
       "    </tr>\n",
       "    <tr>\n",
       "      <th>...</th>\n",
       "      <td>...</td>\n",
       "      <td>...</td>\n",
       "      <td>...</td>\n",
       "    </tr>\n",
       "    <tr>\n",
       "      <th>23385</th>\n",
       "      <td>6</td>\n",
       "      <td>22 22 28 22 18 26 49 59 73 82 96 111 121 132 1...</td>\n",
       "      <td>Training</td>\n",
       "    </tr>\n",
       "    <tr>\n",
       "      <th>7854</th>\n",
       "      <td>0</td>\n",
       "      <td>136 135 131 137 119 111 141 156 139 116 101 10...</td>\n",
       "      <td>Training</td>\n",
       "    </tr>\n",
       "    <tr>\n",
       "      <th>23612</th>\n",
       "      <td>3</td>\n",
       "      <td>13 10 7 8 11 12 12 11 9 7 6 5 5 5 4 4 4 6 8 8 ...</td>\n",
       "      <td>Training</td>\n",
       "    </tr>\n",
       "    <tr>\n",
       "      <th>27182</th>\n",
       "      <td>3</td>\n",
       "      <td>163 145 119 81 55 41 43 53 48 50 54 71 101 146...</td>\n",
       "      <td>Training</td>\n",
       "    </tr>\n",
       "    <tr>\n",
       "      <th>13362</th>\n",
       "      <td>2</td>\n",
       "      <td>29 29 31 35 45 61 80 100 114 119 119 117 118 1...</td>\n",
       "      <td>Training</td>\n",
       "    </tr>\n",
       "  </tbody>\n",
       "</table>\n",
       "<p>35887 rows × 3 columns</p>\n",
       "</div>"
      ],
      "text/plain": [
       "       emotion                                             pixels     Usage\n",
       "8603         6  15 8 2 5 6 6 6 5 7 10 8 9 17 15 3 19 18 47 60 ...  Training\n",
       "19289        0  231 237 238 234 237 239 238 184 95 59 13 17 25...  Training\n",
       "25211        4  32 37 37 33 35 36 33 44 60 85 140 211 235 246 ...  Training\n",
       "7261         0  117 112 109 85 61 44 49 26 104 220 225 228 231...  Training\n",
       "22728        4  126 124 127 127 90 124 181 184 192 198 201 203...  Training\n",
       "...        ...                                                ...       ...\n",
       "23385        6  22 22 28 22 18 26 49 59 73 82 96 111 121 132 1...  Training\n",
       "7854         0  136 135 131 137 119 111 141 156 139 116 101 10...  Training\n",
       "23612        3  13 10 7 8 11 12 12 11 9 7 6 5 5 5 4 4 4 6 8 8 ...  Training\n",
       "27182        3  163 145 119 81 55 41 43 53 48 50 54 71 101 146...  Training\n",
       "13362        2  29 29 31 35 45 61 80 100 114 119 119 117 118 1...  Training\n",
       "\n",
       "[35887 rows x 3 columns]"
      ]
     },
     "execution_count": 112,
     "metadata": {},
     "output_type": "execute_result"
    }
   ],
   "source": [
    "# shuffle dataset\n",
    "df = raw_df.sample(frac=1)#,random_state=1)\n",
    "df"
   ]
  },
  {
   "cell_type": "code",
   "execution_count": 113,
   "id": "5b497332",
   "metadata": {},
   "outputs": [],
   "source": [
    "# one hot enconding\n",
    "onehot_labels = ks.utils.to_categorical(df[['emotion']], num_classes=7)"
   ]
  },
  {
   "cell_type": "code",
   "execution_count": 114,
   "id": "eead26a3",
   "metadata": {},
   "outputs": [],
   "source": [
    "#train = df[df['Usage'] == 'Training]"
   ]
  },
  {
   "cell_type": "code",
   "execution_count": 115,
   "id": "e7857b1f",
   "metadata": {},
   "outputs": [
    {
     "data": {
      "text/plain": [
       "(35887, 2304)"
      ]
     },
     "execution_count": 115,
     "metadata": {},
     "output_type": "execute_result"
    }
   ],
   "source": [
    "data = np.uint8(df['pixels'].astype('str').str.split(\" \").tolist())\n",
    "data.shape"
   ]
  },
  {
   "cell_type": "code",
   "execution_count": 116,
   "id": "3841e6c6",
   "metadata": {},
   "outputs": [
    {
     "data": {
      "text/plain": [
       "255"
      ]
     },
     "execution_count": 116,
     "metadata": {},
     "output_type": "execute_result"
    }
   ],
   "source": [
    "np.amax(data) #maximum value in unscaled data"
   ]
  },
  {
   "cell_type": "code",
   "execution_count": 117,
   "id": "67cf1632",
   "metadata": {},
   "outputs": [
    {
     "data": {
      "text/plain": [
       "0"
      ]
     },
     "execution_count": 117,
     "metadata": {},
     "output_type": "execute_result"
    }
   ],
   "source": [
    "np.amin(data) # minimum value in unscaled data"
   ]
  },
  {
   "cell_type": "code",
   "execution_count": 118,
   "id": "a82f9021",
   "metadata": {},
   "outputs": [
    {
     "data": {
      "text/plain": [
       "array([[0.05882353, 0.03137255, 0.00784314, ..., 0.15294118, 0.23137255,\n",
       "        0.21960784],\n",
       "       [0.90588236, 0.92941177, 0.93333334, ..., 0.92941177, 0.9490196 ,\n",
       "        0.64705884],\n",
       "       [0.1254902 , 0.14509805, 0.14509805, ..., 0.11372549, 0.11764706,\n",
       "        0.11372549],\n",
       "       ...,\n",
       "       [0.05098039, 0.03921569, 0.02745098, ..., 0.01960784, 0.05098039,\n",
       "        0.07843138],\n",
       "       [0.6392157 , 0.5686275 , 0.46666667, ..., 0.5921569 , 0.64705884,\n",
       "        0.6784314 ],\n",
       "       [0.11372549, 0.11372549, 0.12156863, ..., 0.85882354, 0.87058824,\n",
       "        0.8901961 ]], dtype=float32)"
      ]
     },
     "execution_count": 118,
     "metadata": {},
     "output_type": "execute_result"
    }
   ],
   "source": [
    "data = data.astype('float32') / 255.0\n",
    "data"
   ]
  },
  {
   "cell_type": "code",
   "execution_count": 119,
   "id": "aaf685ee",
   "metadata": {},
   "outputs": [
    {
     "data": {
      "text/plain": [
       "48.0"
      ]
     },
     "execution_count": 119,
     "metadata": {},
     "output_type": "execute_result"
    }
   ],
   "source": [
    "from math import sqrt\n",
    "sqrt(2304)"
   ]
  },
  {
   "cell_type": "code",
   "execution_count": 120,
   "id": "bc677efb",
   "metadata": {},
   "outputs": [],
   "source": [
    "data = data.reshape((35887,48,48,1))"
   ]
  },
  {
   "cell_type": "code",
   "execution_count": 121,
   "id": "10f0522d",
   "metadata": {},
   "outputs": [],
   "source": [
    "X_train, X_test, y_train, y_test = model_selection.train_test_split(data, onehot_labels, test_size=0.1, shuffle=False)\n",
    "X_train, X_val, y_train, y_val = model_selection.train_test_split(X_train, y_train, test_size=0.1, shuffle=False)"
   ]
  },
  {
   "cell_type": "code",
   "execution_count": 122,
   "id": "1a9c1635",
   "metadata": {},
   "outputs": [],
   "source": [
    "datagen = ImageDataGenerator(width_shift_range = 0.1,\n",
    "                             height_shift_range = 0.1,\n",
    "                             horizontal_flip = True,\n",
    "                             zoom_range = 0.2)\n",
    "valgen = ImageDataGenerator(width_shift_range = 0.1,\n",
    "                            height_shift_range = 0.1,\n",
    "                            horizontal_flip = True,\n",
    "                            zoom_range = 0.2) "
   ]
  },
  {
   "cell_type": "code",
   "execution_count": 123,
   "id": "3cf4d5d6",
   "metadata": {},
   "outputs": [],
   "source": [
    "datagen.fit(X_train)\n",
    "valgen.fit(X_val)"
   ]
  },
  {
   "cell_type": "code",
   "execution_count": 124,
   "id": "833b9c36",
   "metadata": {},
   "outputs": [],
   "source": [
    "train_generator = datagen.flow(X_train, y_train, batch_size=64)\n",
    "val_generator = datagen.flow(X_val, y_val, batch_size=64)"
   ]
  },
  {
   "cell_type": "markdown",
   "id": "b4549c18",
   "metadata": {},
   "source": [
    "## 3. ConvNet Model"
   ]
  },
  {
   "cell_type": "code",
   "execution_count": 125,
   "id": "4b8e918c",
   "metadata": {},
   "outputs": [],
   "source": [
    "# defining cnn model layers\n",
    "model = keras.Sequential([\n",
    "    # layer 1 (conv2d)\n",
    "    keras.layers.Conv2D(filters=32, kernel_size=(3, 3), padding=\"same\", activation='relu', kernel_initializer=\"random_normal\", input_shape=(48, 48, 1)),\n",
    "    keras.layers.MaxPooling2D((2, 2)),\n",
    "    keras.layers.Dropout(0.2),\n",
    "    \n",
    "    # block 2 (conv2d)\n",
    "    keras.layers.Conv2D(filters=64,kernel_size=(3, 3),padding='same', activation='relu'),\n",
    "    keras.layers.BatchNormalization(),\n",
    "    keras.layers.Conv2D(filters=64,kernel_size=(3, 3),padding='same', activation='relu'),\n",
    "    keras.layers.MaxPooling2D((2, 2)),\n",
    "    keras.layers.BatchNormalization(),\n",
    "    keras.layers.Dropout(0.2),\n",
    "    \n",
    "    # block 3 (conv2d)\n",
    "    keras.layers.Conv2D(filters=128,kernel_size=(3, 3),padding='same', activation='relu'),\n",
    "    keras.layers.BatchNormalization(),\n",
    "    keras.layers.Conv2D(filters=128,kernel_size=(3, 3),padding='same', activation='relu'),\n",
    "    keras.layers.MaxPooling2D((2, 2)),\n",
    "    keras.layers.BatchNormalization(),\n",
    "    keras.layers.Dropout(0.2),\n",
    "    \n",
    "    # block 4 (conv2d)\n",
    "    keras.layers.Conv2D(filters=256, kernel_size=(3,3), activation='relu', padding='same',kernel_regularizer=tf.keras.regularizers.l2( l=0.01)),\n",
    "    keras.layers.BatchNormalization(),\n",
    "    keras.layers.Conv2D(filters=256,kernel_size=(3, 3),padding='same', activation='relu',kernel_regularizer=tf.keras.regularizers.l2( l=0.01)),\n",
    "    keras.layers.BatchNormalization(),\n",
    "    keras.layers.Conv2D(filters=256,kernel_size=(3, 3),padding='same', activation='relu', kernel_regularizer=tf.keras.regularizers.l2( l=0.01)),\n",
    "    keras.layers.MaxPooling2D((2, 2)),\n",
    "    keras.layers.BatchNormalization(),\n",
    "    keras.layers.Dropout(0.2),\n",
    "    \n",
    "    # block 5 (conv2d)\n",
    "    keras.layers.Conv2D(filters=512, kernel_size=(3,3), activation='relu', padding='same', kernel_regularizer=tf.keras.regularizers.l2( l=0.01)),\n",
    "    keras.layers.BatchNormalization(),\n",
    "    keras.layers.Conv2D(filters=512, kernel_size=(3,3), activation='relu', padding='same', kernel_regularizer=tf.keras.regularizers.l2( l=0.01)),\n",
    "    keras.layers.MaxPooling2D((2, 2)),\n",
    "    keras.layers.BatchNormalization(),\n",
    "    keras.layers.Dropout(0.2),\n",
    "    \n",
    "     # flattening\n",
    "    keras.layers.Flatten(),\n",
    "    \n",
    "    # layer 5 (dense)\n",
    "    keras.layers.Dense(512, activation='relu',kernel_regularizer =tf.keras.regularizers.l2( l=0.01)),\n",
    "    keras.layers.BatchNormalization(),\n",
    "    keras.layers.Dropout(0.2),\n",
    "    \n",
    "    # layer 6 (dense)\n",
    "    keras.layers.Dense(7, activation='softmax')\n",
    "])"
   ]
  },
  {
   "cell_type": "code",
   "execution_count": 126,
   "id": "763c19e2",
   "metadata": {},
   "outputs": [
    {
     "name": "stdout",
     "output_type": "stream",
     "text": [
      "Model: \"sequential_3\"\n",
      "_________________________________________________________________\n",
      " Layer (type)                Output Shape              Param #   \n",
      "=================================================================\n",
      " conv2d_43 (Conv2D)          (None, 48, 48, 32)        320       \n",
      "                                                                 \n",
      " max_pooling2d_21 (MaxPoolin  (None, 24, 24, 32)       0         \n",
      " g2D)                                                            \n",
      "                                                                 \n",
      " dropout_24 (Dropout)        (None, 24, 24, 32)        0         \n",
      "                                                                 \n",
      " conv2d_44 (Conv2D)          (None, 24, 24, 64)        18496     \n",
      "                                                                 \n",
      " batch_normalization_41 (Bat  (None, 24, 24, 64)       256       \n",
      " chNormalization)                                                \n",
      "                                                                 \n",
      " conv2d_45 (Conv2D)          (None, 24, 24, 64)        36928     \n",
      "                                                                 \n",
      " max_pooling2d_22 (MaxPoolin  (None, 12, 12, 64)       0         \n",
      " g2D)                                                            \n",
      "                                                                 \n",
      " batch_normalization_42 (Bat  (None, 12, 12, 64)       256       \n",
      " chNormalization)                                                \n",
      "                                                                 \n",
      " dropout_25 (Dropout)        (None, 12, 12, 64)        0         \n",
      "                                                                 \n",
      " conv2d_46 (Conv2D)          (None, 12, 12, 128)       73856     \n",
      "                                                                 \n",
      " batch_normalization_43 (Bat  (None, 12, 12, 128)      512       \n",
      " chNormalization)                                                \n",
      "                                                                 \n",
      " conv2d_47 (Conv2D)          (None, 12, 12, 128)       147584    \n",
      "                                                                 \n",
      " max_pooling2d_23 (MaxPoolin  (None, 6, 6, 128)        0         \n",
      " g2D)                                                            \n",
      "                                                                 \n",
      " batch_normalization_44 (Bat  (None, 6, 6, 128)        512       \n",
      " chNormalization)                                                \n",
      "                                                                 \n",
      " dropout_26 (Dropout)        (None, 6, 6, 128)         0         \n",
      "                                                                 \n",
      " conv2d_48 (Conv2D)          (None, 6, 6, 256)         295168    \n",
      "                                                                 \n",
      " batch_normalization_45 (Bat  (None, 6, 6, 256)        1024      \n",
      " chNormalization)                                                \n",
      "                                                                 \n",
      " conv2d_49 (Conv2D)          (None, 6, 6, 256)         590080    \n",
      "                                                                 \n",
      " batch_normalization_46 (Bat  (None, 6, 6, 256)        1024      \n",
      " chNormalization)                                                \n",
      "                                                                 \n",
      " conv2d_50 (Conv2D)          (None, 6, 6, 256)         590080    \n",
      "                                                                 \n",
      " max_pooling2d_24 (MaxPoolin  (None, 3, 3, 256)        0         \n",
      " g2D)                                                            \n",
      "                                                                 \n",
      " batch_normalization_47 (Bat  (None, 3, 3, 256)        1024      \n",
      " chNormalization)                                                \n",
      "                                                                 \n",
      " dropout_27 (Dropout)        (None, 3, 3, 256)         0         \n",
      "                                                                 \n",
      " conv2d_51 (Conv2D)          (None, 3, 3, 512)         1180160   \n",
      "                                                                 \n",
      " batch_normalization_48 (Bat  (None, 3, 3, 512)        2048      \n",
      " chNormalization)                                                \n",
      "                                                                 \n",
      " conv2d_52 (Conv2D)          (None, 3, 3, 512)         2359808   \n",
      "                                                                 \n",
      " max_pooling2d_25 (MaxPoolin  (None, 1, 1, 512)        0         \n",
      " g2D)                                                            \n",
      "                                                                 \n",
      " batch_normalization_49 (Bat  (None, 1, 1, 512)        2048      \n",
      " chNormalization)                                                \n",
      "                                                                 \n",
      " dropout_28 (Dropout)        (None, 1, 1, 512)         0         \n",
      "                                                                 \n",
      " flatten_3 (Flatten)         (None, 512)               0         \n",
      "                                                                 \n",
      " dense_6 (Dense)             (None, 512)               262656    \n",
      "                                                                 \n",
      " batch_normalization_50 (Bat  (None, 512)              2048      \n",
      " chNormalization)                                                \n",
      "                                                                 \n",
      " dropout_29 (Dropout)        (None, 512)               0         \n",
      "                                                                 \n",
      " dense_7 (Dense)             (None, 7)                 3591      \n",
      "                                                                 \n",
      "=================================================================\n",
      "Total params: 5,569,479\n",
      "Trainable params: 5,564,103\n",
      "Non-trainable params: 5,376\n",
      "_________________________________________________________________\n"
     ]
    }
   ],
   "source": [
    "# printing model summary\n",
    "model.summary()\n",
    "\n",
    "# compiling model using adam optimizer and categorical ce loss function\n",
    "# only metric analyzed is accuracy\n",
    "model.compile(optimizer=keras.optimizers.Adam(learning_rate=0.001,decay=1e-6), #'adam'\n",
    "              loss='categorical_crossentropy',\n",
    "              metrics=['accuracy'])"
   ]
  },
  {
   "cell_type": "code",
   "execution_count": 127,
   "id": "9d308cb8",
   "metadata": {},
   "outputs": [
    {
     "name": "stdout",
     "output_type": "stream",
     "text": [
      "Epoch 1/100\n"
     ]
    },
    {
     "name": "stderr",
     "output_type": "stream",
     "text": [
      "2023-03-02 15:15:06.302348: I tensorflow/core/grappler/optimizers/custom_graph_optimizer_registry.cc:114] Plugin optimizer for device_type GPU is enabled.\n",
      "2023-03-02 15:15:32.799627: I tensorflow/core/grappler/optimizers/custom_graph_optimizer_registry.cc:114] Plugin optimizer for device_type GPU is enabled.\n"
     ]
    },
    {
     "name": "stdout",
     "output_type": "stream",
     "text": [
      "455/455 - 30s - loss: 9.7600 - accuracy: 0.2291 - val_loss: 2.7363 - val_accuracy: 0.2563 - 30s/epoch - 66ms/step\n",
      "Epoch 2/100\n",
      "455/455 - 29s - loss: 2.2570 - accuracy: 0.2530 - val_loss: 2.0549 - val_accuracy: 0.2505 - 29s/epoch - 63ms/step\n",
      "Epoch 3/100\n",
      "455/455 - 27s - loss: 1.9733 - accuracy: 0.2984 - val_loss: 1.9566 - val_accuracy: 0.2824 - 27s/epoch - 58ms/step\n",
      "Epoch 4/100\n",
      "455/455 - 28s - loss: 2.0031 - accuracy: 0.3150 - val_loss: 1.9464 - val_accuracy: 0.3105 - 28s/epoch - 62ms/step\n",
      "Epoch 5/100\n",
      "455/455 - 27s - loss: 1.9429 - accuracy: 0.3468 - val_loss: 1.9308 - val_accuracy: 0.3467 - 27s/epoch - 60ms/step\n",
      "Epoch 6/100\n",
      "455/455 - 29s - loss: 1.9053 - accuracy: 0.3679 - val_loss: 1.8544 - val_accuracy: 0.3393 - 29s/epoch - 63ms/step\n",
      "Epoch 7/100\n",
      "455/455 - 27s - loss: 1.7884 - accuracy: 0.3849 - val_loss: 1.9807 - val_accuracy: 0.3015 - 27s/epoch - 59ms/step\n",
      "Epoch 8/100\n",
      "455/455 - 28s - loss: 1.7748 - accuracy: 0.4011 - val_loss: 1.7626 - val_accuracy: 0.4204 - 28s/epoch - 61ms/step\n",
      "Epoch 9/100\n",
      "455/455 - 28s - loss: 1.7400 - accuracy: 0.4166 - val_loss: 1.8129 - val_accuracy: 0.3997 - 28s/epoch - 62ms/step\n",
      "Epoch 10/100\n",
      "455/455 - 28s - loss: 1.7399 - accuracy: 0.4244 - val_loss: 1.7517 - val_accuracy: 0.4124 - 28s/epoch - 61ms/step\n",
      "Epoch 11/100\n",
      "455/455 - 28s - loss: 1.7352 - accuracy: 0.4335 - val_loss: 1.7606 - val_accuracy: 0.4514 - 28s/epoch - 62ms/step\n",
      "Epoch 12/100\n",
      "455/455 - 29s - loss: 1.7098 - accuracy: 0.4474 - val_loss: 1.7339 - val_accuracy: 0.4548 - 29s/epoch - 63ms/step\n",
      "Epoch 13/100\n",
      "455/455 - 27s - loss: 1.6979 - accuracy: 0.4557 - val_loss: 1.7067 - val_accuracy: 0.4632 - 27s/epoch - 58ms/step\n",
      "Epoch 14/100\n",
      "455/455 - 27s - loss: 1.7051 - accuracy: 0.4636 - val_loss: 1.8707 - val_accuracy: 0.3204 - 27s/epoch - 59ms/step\n",
      "Epoch 15/100\n",
      "455/455 - 28s - loss: 1.6843 - accuracy: 0.4721 - val_loss: 1.7638 - val_accuracy: 0.4201 - 28s/epoch - 61ms/step\n",
      "Epoch 16/100\n",
      "455/455 - 27s - loss: 1.6579 - accuracy: 0.4813 - val_loss: 1.7037 - val_accuracy: 0.4567 - 27s/epoch - 60ms/step\n",
      "Epoch 17/100\n",
      "455/455 - 27s - loss: 1.6571 - accuracy: 0.4903 - val_loss: 1.7112 - val_accuracy: 0.4777 - 27s/epoch - 59ms/step\n",
      "Epoch 18/100\n",
      "455/455 - 29s - loss: 1.6341 - accuracy: 0.4949 - val_loss: 1.6808 - val_accuracy: 0.4752 - 29s/epoch - 64ms/step\n",
      "Epoch 19/100\n",
      "455/455 - 27s - loss: 1.6112 - accuracy: 0.5018 - val_loss: 1.6753 - val_accuracy: 0.4839 - 27s/epoch - 60ms/step\n",
      "Epoch 20/100\n",
      "455/455 - 27s - loss: 1.5895 - accuracy: 0.5056 - val_loss: 1.5789 - val_accuracy: 0.4827 - 27s/epoch - 59ms/step\n",
      "Epoch 21/100\n",
      "455/455 - 28s - loss: 1.5791 - accuracy: 0.5109 - val_loss: 1.6320 - val_accuracy: 0.4910 - 28s/epoch - 60ms/step\n",
      "Epoch 22/100\n",
      "455/455 - 28s - loss: 1.5695 - accuracy: 0.5139 - val_loss: 1.5870 - val_accuracy: 0.5260 - 28s/epoch - 62ms/step\n",
      "Epoch 23/100\n",
      "455/455 - 27s - loss: 1.5293 - accuracy: 0.5187 - val_loss: 1.4972 - val_accuracy: 0.5220 - 27s/epoch - 60ms/step\n",
      "Epoch 24/100\n",
      "455/455 - 27s - loss: 1.5013 - accuracy: 0.5255 - val_loss: 1.5928 - val_accuracy: 0.5232 - 27s/epoch - 59ms/step\n",
      "Epoch 25/100\n",
      "455/455 - 28s - loss: 1.4782 - accuracy: 0.5268 - val_loss: 1.5659 - val_accuracy: 0.4907 - 28s/epoch - 61ms/step\n",
      "Epoch 26/100\n",
      "455/455 - 29s - loss: 1.4588 - accuracy: 0.5335 - val_loss: 1.5462 - val_accuracy: 0.4839 - 29s/epoch - 63ms/step\n",
      "Epoch 27/100\n",
      "455/455 - 28s - loss: 1.4409 - accuracy: 0.5363 - val_loss: 1.5173 - val_accuracy: 0.4981 - 28s/epoch - 61ms/step\n",
      "Epoch 28/100\n",
      "455/455 - 28s - loss: 1.4095 - accuracy: 0.5397 - val_loss: 1.4885 - val_accuracy: 0.4895 - 28s/epoch - 61ms/step\n",
      "Epoch 29/100\n",
      "455/455 - 28s - loss: 1.3909 - accuracy: 0.5436 - val_loss: 1.4129 - val_accuracy: 0.5356 - 28s/epoch - 61ms/step\n",
      "Epoch 30/100\n",
      "455/455 - 27s - loss: 1.3880 - accuracy: 0.5423 - val_loss: 1.4171 - val_accuracy: 0.5115 - 27s/epoch - 60ms/step\n",
      "Epoch 31/100\n",
      "455/455 - 27s - loss: 1.3690 - accuracy: 0.5442 - val_loss: 1.3793 - val_accuracy: 0.5415 - 27s/epoch - 60ms/step\n",
      "Epoch 32/100\n",
      "455/455 - 27s - loss: 1.3644 - accuracy: 0.5515 - val_loss: 1.3603 - val_accuracy: 0.5560 - 27s/epoch - 59ms/step\n",
      "Epoch 33/100\n",
      "455/455 - 27s - loss: 1.3492 - accuracy: 0.5518 - val_loss: 1.3823 - val_accuracy: 0.5245 - 27s/epoch - 59ms/step\n",
      "Epoch 34/100\n",
      "455/455 - 27s - loss: 1.3423 - accuracy: 0.5514 - val_loss: 1.3936 - val_accuracy: 0.5390 - 27s/epoch - 60ms/step\n",
      "Epoch 35/100\n",
      "455/455 - 28s - loss: 1.3344 - accuracy: 0.5544 - val_loss: 1.4825 - val_accuracy: 0.5232 - 28s/epoch - 61ms/step\n",
      "Epoch 36/100\n",
      "455/455 - 27s - loss: 1.3176 - accuracy: 0.5556 - val_loss: 1.4099 - val_accuracy: 0.5102 - 27s/epoch - 60ms/step\n",
      "Epoch 37/100\n",
      "455/455 - 27s - loss: 1.3049 - accuracy: 0.5641 - val_loss: 1.4273 - val_accuracy: 0.5022 - 27s/epoch - 59ms/step\n",
      "Epoch 38/100\n",
      "455/455 - 27s - loss: 1.2943 - accuracy: 0.5618 - val_loss: 1.2803 - val_accuracy: 0.5755 - 27s/epoch - 59ms/step\n",
      "Epoch 39/100\n",
      "455/455 - 27s - loss: 1.2907 - accuracy: 0.5622 - val_loss: 1.2843 - val_accuracy: 0.5808 - 27s/epoch - 60ms/step\n",
      "Epoch 40/100\n",
      "455/455 - 25s - loss: 1.2888 - accuracy: 0.5659 - val_loss: 1.3748 - val_accuracy: 0.5019 - 25s/epoch - 55ms/step\n",
      "Epoch 41/100\n",
      "455/455 - 25s - loss: 1.2751 - accuracy: 0.5664 - val_loss: 1.3097 - val_accuracy: 0.5557 - 25s/epoch - 55ms/step\n",
      "Epoch 42/100\n",
      "455/455 - 25s - loss: 1.2602 - accuracy: 0.5707 - val_loss: 1.3071 - val_accuracy: 0.5294 - 25s/epoch - 55ms/step\n",
      "Epoch 43/100\n",
      "455/455 - 25s - loss: 1.2581 - accuracy: 0.5688 - val_loss: 1.2644 - val_accuracy: 0.5653 - 25s/epoch - 55ms/step\n",
      "Epoch 44/100\n",
      "455/455 - 24s - loss: 1.2474 - accuracy: 0.5698 - val_loss: 1.3564 - val_accuracy: 0.5031 - 24s/epoch - 53ms/step\n",
      "Epoch 45/100\n",
      "455/455 - 25s - loss: 1.2353 - accuracy: 0.5749 - val_loss: 1.2643 - val_accuracy: 0.5582 - 25s/epoch - 54ms/step\n",
      "Epoch 46/100\n",
      "455/455 - 25s - loss: 1.2066 - accuracy: 0.5813 - val_loss: 1.1745 - val_accuracy: 0.5944 - 25s/epoch - 54ms/step\n",
      "Epoch 47/100\n",
      "455/455 - 25s - loss: 1.1903 - accuracy: 0.5802 - val_loss: 1.1806 - val_accuracy: 0.5926 - 25s/epoch - 55ms/step\n",
      "Epoch 48/100\n",
      "455/455 - 25s - loss: 1.1822 - accuracy: 0.5858 - val_loss: 1.1930 - val_accuracy: 0.5926 - 25s/epoch - 54ms/step\n",
      "Epoch 49/100\n",
      "455/455 - 25s - loss: 1.1815 - accuracy: 0.5864 - val_loss: 1.1688 - val_accuracy: 0.5926 - 25s/epoch - 54ms/step\n",
      "Epoch 50/100\n",
      "455/455 - 25s - loss: 1.1714 - accuracy: 0.5903 - val_loss: 1.1458 - val_accuracy: 0.5969 - 25s/epoch - 55ms/step\n",
      "Epoch 51/100\n",
      "455/455 - 25s - loss: 1.1599 - accuracy: 0.5932 - val_loss: 1.2380 - val_accuracy: 0.5666 - 25s/epoch - 54ms/step\n",
      "Epoch 52/100\n",
      "455/455 - 25s - loss: 1.1499 - accuracy: 0.5982 - val_loss: 1.1688 - val_accuracy: 0.5969 - 25s/epoch - 54ms/step\n",
      "Epoch 53/100\n",
      "455/455 - 25s - loss: 1.1446 - accuracy: 0.5992 - val_loss: 1.2849 - val_accuracy: 0.5477 - 25s/epoch - 54ms/step\n",
      "Epoch 54/100\n",
      "455/455 - 25s - loss: 1.1483 - accuracy: 0.5965 - val_loss: 1.1521 - val_accuracy: 0.6000 - 25s/epoch - 55ms/step\n",
      "Epoch 55/100\n",
      "455/455 - 25s - loss: 1.1437 - accuracy: 0.6006 - val_loss: 1.1674 - val_accuracy: 0.6053 - 25s/epoch - 55ms/step\n",
      "Epoch 56/100\n",
      "455/455 - 25s - loss: 1.1383 - accuracy: 0.6033 - val_loss: 1.1166 - val_accuracy: 0.6121 - 25s/epoch - 54ms/step\n",
      "Epoch 57/100\n",
      "455/455 - 25s - loss: 1.1296 - accuracy: 0.6021 - val_loss: 1.2317 - val_accuracy: 0.5659 - 25s/epoch - 54ms/step\n",
      "Epoch 58/100\n",
      "455/455 - 25s - loss: 1.1260 - accuracy: 0.6056 - val_loss: 1.1346 - val_accuracy: 0.6130 - 25s/epoch - 55ms/step\n",
      "Epoch 59/100\n",
      "455/455 - 25s - loss: 1.1268 - accuracy: 0.6039 - val_loss: 1.1108 - val_accuracy: 0.6155 - 25s/epoch - 55ms/step\n",
      "Epoch 60/100\n",
      "455/455 - 25s - loss: 1.1219 - accuracy: 0.6046 - val_loss: 1.1515 - val_accuracy: 0.5864 - 25s/epoch - 55ms/step\n",
      "Epoch 61/100\n",
      "455/455 - 25s - loss: 1.1155 - accuracy: 0.6073 - val_loss: 1.1256 - val_accuracy: 0.6093 - 25s/epoch - 54ms/step\n",
      "Epoch 62/100\n",
      "455/455 - 24s - loss: 1.1128 - accuracy: 0.6130 - val_loss: 1.1186 - val_accuracy: 0.6077 - 24s/epoch - 54ms/step\n",
      "Epoch 63/100\n",
      "455/455 - 25s - loss: 1.1102 - accuracy: 0.6082 - val_loss: 1.1161 - val_accuracy: 0.6173 - 25s/epoch - 54ms/step\n",
      "Epoch 64/100\n",
      "455/455 - 25s - loss: 1.1103 - accuracy: 0.6094 - val_loss: 1.1184 - val_accuracy: 0.6161 - 25s/epoch - 54ms/step\n",
      "Epoch 65/100\n",
      "455/455 - 25s - loss: 1.0977 - accuracy: 0.6159 - val_loss: 1.1566 - val_accuracy: 0.5975 - 25s/epoch - 54ms/step\n"
     ]
    },
    {
     "name": "stdout",
     "output_type": "stream",
     "text": [
      "Epoch 66/100\n",
      "455/455 - 25s - loss: 1.0996 - accuracy: 0.6135 - val_loss: 1.1108 - val_accuracy: 0.6180 - 25s/epoch - 54ms/step\n",
      "Epoch 67/100\n",
      "455/455 - 25s - loss: 1.0967 - accuracy: 0.6176 - val_loss: 1.1705 - val_accuracy: 0.5938 - 25s/epoch - 54ms/step\n",
      "Epoch 68/100\n",
      "455/455 - 25s - loss: 1.0970 - accuracy: 0.6178 - val_loss: 1.1258 - val_accuracy: 0.6065 - 25s/epoch - 55ms/step\n",
      "Epoch 69/100\n",
      "455/455 - 25s - loss: 1.0924 - accuracy: 0.6185 - val_loss: 1.1022 - val_accuracy: 0.6195 - 25s/epoch - 54ms/step\n",
      "Epoch 70/100\n",
      "455/455 - 25s - loss: 1.0862 - accuracy: 0.6181 - val_loss: 1.0987 - val_accuracy: 0.6245 - 25s/epoch - 54ms/step\n",
      "Epoch 71/100\n",
      "455/455 - 25s - loss: 1.0813 - accuracy: 0.6189 - val_loss: 1.1454 - val_accuracy: 0.6006 - 25s/epoch - 54ms/step\n",
      "Epoch 72/100\n",
      "455/455 - 25s - loss: 1.0823 - accuracy: 0.6230 - val_loss: 1.0831 - val_accuracy: 0.6214 - 25s/epoch - 54ms/step\n",
      "Epoch 73/100\n",
      "455/455 - 25s - loss: 1.0810 - accuracy: 0.6170 - val_loss: 1.0891 - val_accuracy: 0.6248 - 25s/epoch - 54ms/step\n",
      "Epoch 74/100\n",
      "455/455 - 25s - loss: 1.0775 - accuracy: 0.6254 - val_loss: 1.1300 - val_accuracy: 0.6090 - 25s/epoch - 55ms/step\n",
      "Epoch 75/100\n",
      "455/455 - 25s - loss: 1.0794 - accuracy: 0.6206 - val_loss: 1.1026 - val_accuracy: 0.6214 - 25s/epoch - 54ms/step\n",
      "Epoch 76/100\n",
      "455/455 - 25s - loss: 1.0746 - accuracy: 0.6256 - val_loss: 1.0871 - val_accuracy: 0.6322 - 25s/epoch - 54ms/step\n",
      "Epoch 77/100\n",
      "455/455 - 25s - loss: 1.0720 - accuracy: 0.6254 - val_loss: 1.0780 - val_accuracy: 0.6294 - 25s/epoch - 54ms/step\n",
      "Epoch 78/100\n",
      "455/455 - 25s - loss: 1.0699 - accuracy: 0.6256 - val_loss: 1.0749 - val_accuracy: 0.6319 - 25s/epoch - 55ms/step\n",
      "Epoch 79/100\n",
      "455/455 - 25s - loss: 1.0653 - accuracy: 0.6259 - val_loss: 1.0963 - val_accuracy: 0.6257 - 25s/epoch - 55ms/step\n",
      "Epoch 80/100\n",
      "455/455 - 25s - loss: 1.0657 - accuracy: 0.6283 - val_loss: 1.0893 - val_accuracy: 0.6282 - 25s/epoch - 54ms/step\n",
      "Epoch 81/100\n",
      "455/455 - 24s - loss: 1.0650 - accuracy: 0.6256 - val_loss: 1.0854 - val_accuracy: 0.6192 - 24s/epoch - 54ms/step\n",
      "Epoch 82/100\n",
      "455/455 - 25s - loss: 1.0644 - accuracy: 0.6303 - val_loss: 1.0638 - val_accuracy: 0.6319 - 25s/epoch - 54ms/step\n",
      "Epoch 83/100\n",
      "455/455 - 25s - loss: 1.0609 - accuracy: 0.6260 - val_loss: 1.0610 - val_accuracy: 0.6319 - 25s/epoch - 54ms/step\n",
      "Epoch 84/100\n",
      "455/455 - 25s - loss: 1.0520 - accuracy: 0.6323 - val_loss: 1.0871 - val_accuracy: 0.6158 - 25s/epoch - 54ms/step\n",
      "Epoch 85/100\n",
      "455/455 - 25s - loss: 1.0569 - accuracy: 0.6335 - val_loss: 1.0834 - val_accuracy: 0.6291 - 25s/epoch - 54ms/step\n",
      "Epoch 86/100\n",
      "455/455 - 25s - loss: 1.0530 - accuracy: 0.6324 - val_loss: 1.0823 - val_accuracy: 0.6257 - 25s/epoch - 54ms/step\n",
      "Epoch 87/100\n",
      "455/455 - 25s - loss: 1.0566 - accuracy: 0.6325 - val_loss: 1.0574 - val_accuracy: 0.6381 - 25s/epoch - 54ms/step\n",
      "Epoch 88/100\n",
      "455/455 - 25s - loss: 1.0555 - accuracy: 0.6313 - val_loss: 1.0732 - val_accuracy: 0.6229 - 25s/epoch - 54ms/step\n",
      "Epoch 89/100\n",
      "455/455 - 25s - loss: 1.0489 - accuracy: 0.6333 - val_loss: 1.0588 - val_accuracy: 0.6393 - 25s/epoch - 54ms/step\n",
      "Epoch 90/100\n",
      "455/455 - 25s - loss: 1.0445 - accuracy: 0.6352 - val_loss: 1.0542 - val_accuracy: 0.6396 - 25s/epoch - 54ms/step\n",
      "Epoch 91/100\n",
      "455/455 - 25s - loss: 1.0419 - accuracy: 0.6362 - val_loss: 1.1507 - val_accuracy: 0.5975 - 25s/epoch - 55ms/step\n",
      "Epoch 92/100\n",
      "455/455 - 25s - loss: 1.0444 - accuracy: 0.6358 - val_loss: 1.1016 - val_accuracy: 0.6207 - 25s/epoch - 54ms/step\n",
      "Epoch 93/100\n",
      "455/455 - 25s - loss: 1.0487 - accuracy: 0.6336 - val_loss: 1.0676 - val_accuracy: 0.6260 - 25s/epoch - 54ms/step\n",
      "Epoch 94/100\n",
      "455/455 - 25s - loss: 1.0400 - accuracy: 0.6372 - val_loss: 1.0938 - val_accuracy: 0.6192 - 25s/epoch - 54ms/step\n",
      "Epoch 95/100\n",
      "455/455 - 25s - loss: 1.0403 - accuracy: 0.6396 - val_loss: 1.0656 - val_accuracy: 0.6359 - 25s/epoch - 55ms/step\n",
      "Epoch 96/100\n",
      "455/455 - 25s - loss: 1.0370 - accuracy: 0.6373 - val_loss: 1.1278 - val_accuracy: 0.6090 - 25s/epoch - 54ms/step\n",
      "Epoch 97/100\n",
      "455/455 - 24s - loss: 1.0364 - accuracy: 0.6382 - val_loss: 1.0722 - val_accuracy: 0.6313 - 24s/epoch - 53ms/step\n",
      "Epoch 98/100\n",
      "455/455 - 25s - loss: 1.0276 - accuracy: 0.6415 - val_loss: 1.0813 - val_accuracy: 0.6260 - 25s/epoch - 55ms/step\n",
      "Epoch 99/100\n",
      "455/455 - 24s - loss: 1.0314 - accuracy: 0.6376 - val_loss: 1.0642 - val_accuracy: 0.6362 - 24s/epoch - 54ms/step\n",
      "Epoch 100/100\n",
      "455/455 - 25s - loss: 1.0300 - accuracy: 0.6412 - val_loss: 1.0742 - val_accuracy: 0.6347 - 25s/epoch - 54ms/step\n"
     ]
    },
    {
     "data": {
      "text/plain": [
       "<keras.callbacks.History at 0x4d0dfffd0>"
      ]
     },
     "execution_count": 127,
     "metadata": {},
     "output_type": "execute_result"
    }
   ],
   "source": [
    "model.fit(train_generator,\n",
    "          batch_size=64,\n",
    "          epochs=100,\n",
    "          verbose=2,\n",
    "          validation_data=val_generator)"
   ]
  },
  {
   "cell_type": "code",
   "execution_count": 128,
   "id": "84036dcc",
   "metadata": {},
   "outputs": [
    {
     "data": {
      "text/plain": [
       "dict_keys(['loss', 'accuracy', 'val_loss', 'val_accuracy'])"
      ]
     },
     "execution_count": 128,
     "metadata": {},
     "output_type": "execute_result"
    }
   ],
   "source": [
    "model.history.history.keys()"
   ]
  },
  {
   "cell_type": "code",
   "execution_count": 129,
   "id": "fc8b6a29",
   "metadata": {},
   "outputs": [
    {
     "data": {
      "text/plain": [
       "[0.25634676218032837,\n",
       " 0.25046440958976746,\n",
       " 0.2823529541492462,\n",
       " 0.3105263113975525,\n",
       " 0.3467492163181305,\n",
       " 0.3393189013004303,\n",
       " 0.3015480041503906,\n",
       " 0.4204334318637848,\n",
       " 0.3996904194355011,\n",
       " 0.41238391399383545,\n",
       " 0.451393187046051,\n",
       " 0.45479875802993774,\n",
       " 0.46315789222717285,\n",
       " 0.32043343782424927,\n",
       " 0.4201238453388214,\n",
       " 0.4566563367843628,\n",
       " 0.47770899534225464,\n",
       " 0.47523221373558044,\n",
       " 0.48390093445777893,\n",
       " 0.48266252875328064,\n",
       " 0.49102166295051575,\n",
       " 0.5260062217712402,\n",
       " 0.521981418132782,\n",
       " 0.5232198238372803,\n",
       " 0.49071207642555237,\n",
       " 0.48390093445777893,\n",
       " 0.49814242124557495,\n",
       " 0.48947370052337646,\n",
       " 0.5356037020683289,\n",
       " 0.5114551186561584,\n",
       " 0.5414860844612122,\n",
       " 0.5560371279716492,\n",
       " 0.5244582295417786,\n",
       " 0.5390092730522156,\n",
       " 0.5232198238372803,\n",
       " 0.5102167129516602,\n",
       " 0.5021671652793884,\n",
       " 0.5755417943000793,\n",
       " 0.5808049440383911,\n",
       " 0.501857578754425,\n",
       " 0.5557275414466858,\n",
       " 0.529411792755127,\n",
       " 0.5653250813484192,\n",
       " 0.5030959844589233,\n",
       " 0.5582043528556824,\n",
       " 0.594427227973938,\n",
       " 0.5925696492195129,\n",
       " 0.5925696492195129,\n",
       " 0.5925696492195129,\n",
       " 0.5969040393829346,\n",
       " 0.5665634870529175,\n",
       " 0.5969040393829346,\n",
       " 0.5476780533790588,\n",
       " 0.6000000238418579,\n",
       " 0.6052631735801697,\n",
       " 0.6120743155479431,\n",
       " 0.565944254398346,\n",
       " 0.6130030751228333,\n",
       " 0.6154798865318298,\n",
       " 0.586377739906311,\n",
       " 0.6092879176139832,\n",
       " 0.6077399253845215,\n",
       " 0.6173374652862549,\n",
       " 0.6160990595817566,\n",
       " 0.5975232124328613,\n",
       " 0.6179566383361816,\n",
       " 0.5938080549240112,\n",
       " 0.606501579284668,\n",
       " 0.6195046305656433,\n",
       " 0.6244581937789917,\n",
       " 0.6006191968917847,\n",
       " 0.6213622093200684,\n",
       " 0.6247677803039551,\n",
       " 0.6089783310890198,\n",
       " 0.6213622093200684,\n",
       " 0.6321981549263,\n",
       " 0.6294117569923401,\n",
       " 0.6318885684013367,\n",
       " 0.62569659948349,\n",
       " 0.6281733512878418,\n",
       " 0.6191950440406799,\n",
       " 0.6318885684013367,\n",
       " 0.6318885684013367,\n",
       " 0.6157894730567932,\n",
       " 0.6291021704673767,\n",
       " 0.62569659948349,\n",
       " 0.6380804777145386,\n",
       " 0.62291020154953,\n",
       " 0.6393188834190369,\n",
       " 0.6396284699440002,\n",
       " 0.5975232124328613,\n",
       " 0.6207430362701416,\n",
       " 0.6260061860084534,\n",
       " 0.6191950440406799,\n",
       " 0.6359133124351501,\n",
       " 0.6089783310890198,\n",
       " 0.6312693357467651,\n",
       " 0.6260061860084534,\n",
       " 0.6362228989601135,\n",
       " 0.6346749067306519]"
      ]
     },
     "execution_count": 129,
     "metadata": {},
     "output_type": "execute_result"
    }
   ],
   "source": [
    "model.history.history['val_accuracy']"
   ]
  },
  {
   "cell_type": "code",
   "execution_count": 130,
   "id": "c36048e7",
   "metadata": {},
   "outputs": [
    {
     "data": {
      "text/plain": [
       "<matplotlib.legend.Legend at 0x531347a90>"
      ]
     },
     "execution_count": 130,
     "metadata": {},
     "output_type": "execute_result"
    },
    {
     "data": {
      "image/png": "[encoded data removed]",
      "text/plain": [
       "<Figure size 640x480 with 1 Axes>"
      ]
     },
     "metadata": {},
     "output_type": "display_data"
    }
   ],
   "source": [
    "plt.plot(model.history.history[\"accuracy\"],'r',label=\"Training Accuracy\")\n",
    "plt.plot(model.history.history[\"val_accuracy\"],'b',label=\"Validation Accuracy\")\n",
    "plt.legend()"
   ]
  },
  {
   "cell_type": "code",
   "execution_count": 131,
   "id": "b659924e",
   "metadata": {},
   "outputs": [
    {
     "data": {
      "text/plain": [
       "<matplotlib.legend.Legend at 0x531402580>"
      ]
     },
     "execution_count": 131,
     "metadata": {},
     "output_type": "execute_result"
    },
    {
     "data": {
      "image/png": "[encoded data removed]",
      "text/plain": [
       "<Figure size 640x480 with 1 Axes>"
      ]
     },
     "metadata": {},
     "output_type": "display_data"
    }
   ],
   "source": [
    "plt.plot(model.history.history[\"loss\"],'r', label=\"Training Loss\")\n",
    "plt.plot(model.history.history[\"val_loss\"],'b', label=\"Validation Loss\")\n",
    "plt.legend()"
   ]
  },
  {
   "cell_type": "code",
   "execution_count": 132,
   "id": "6cf0f06a",
   "metadata": {},
   "outputs": [
    {
     "name": "stdout",
     "output_type": "stream",
     "text": [
      "29/29 [==============================] - 1s 30ms/step - loss: 1.0628 - accuracy: 0.6372\n",
      "Test accuracy: 0.6372249126434326\n",
      "Test loss:  1.0627739429473877\n"
     ]
    }
   ],
   "source": [
    "test_loss, test_acc = model.evaluate(X_test, y_test,batch_size=128)\n",
    "\n",
    "print('Test accuracy:', test_acc)\n",
    "print('Test loss: ', test_loss)"
   ]
  },
  {
   "cell_type": "code",
   "execution_count": 133,
   "id": "2a981f19",
   "metadata": {},
   "outputs": [
    {
     "name": "stdout",
     "output_type": "stream",
     "text": [
      "Saved model and model weights to disk.\n"
     ]
    }
   ],
   "source": [
    "model_json = model.to_json()\n",
    "with open(\"model.json\", \"w\") as json_file:\n",
    "    json_file.write(model_json)\n",
    "model.save_weights(\"model.h5\")\n",
    "print(\"Saved model and model weights to disk.\")"
   ]
  },
  {
   "cell_type": "code",
   "execution_count": null,
   "id": "1756c244",
   "metadata": {},
   "outputs": [],
   "source": []
  }
 ],
 "metadata": {
  "kernelspec": {
   "display_name": "Python 3 (ipykernel)",
   "language": "python",
   "name": "python3"
  },
  "language_info": {
   "codemirror_mode": {
    "name": "ipython",
    "version": 3
   },
   "file_extension": ".py",
   "mimetype": "text/x-python",
   "name": "python",
   "nbconvert_exporter": "python",
   "pygments_lexer": "ipython3",
   "version": "3.9.6"
  }
 },
 "nbformat": 4,
 "nbformat_minor": 5
}
